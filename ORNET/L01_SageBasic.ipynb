{
 "cells": [
  {
   "cell_type": "markdown",
   "id": "909aadd3",
   "metadata": {},
   "source": [
    "\n",
    "<p align=\"center\"><img src=\"sage_logo_new.png\" alt=\"\" /></p>\n",
    "<h1 style=\"text-align: center;\">แนะนำซอฟต์แวร์เซจ</h1>\n",
    "<address style=\"text-align: center;\">เขียนโดย ผศ. ดร. กรุง สินอภิรมย์สราญ</address> \n",
    "<table border=\"0\" cellspacing=\"3\" cellpadding=\"0\">\n",
    "<tbody>\n",
    "<tr>\n",
    "<td>&nbsp;</td>\n",
    "<td colspan=\"3\"><br />\n",
    "<p style=\"text-align: center;\"><span style=\"font-size: xx-large;\"><strong><span style=\"font-family: courier new,courier;\">http://www.sagemath.org/</span></strong></span></p>\n",
    "<p><span style=\"font-size: large;\"><strong>ซอฟต์แวร์เซจ (Sage)</strong> เป็นซอฟต์แวร์โอเพนซอร์สที่รวบรวมโมดูลทางคณิตศาสตร์และวิทยาการคอมพิวเตอร์ โดยตั้งใจจะนำมาใช้แทนซอฟต์แวร์ Magma, Mathematica, Maple และ Matlab</span></p>\n",
    "</td>\n",
    "<td>&nbsp;</td>\n",
    "</tr>\n",
    "<tr>\n",
    "<td width=\"10%\">&nbsp;</td>\n",
    "<td width=\"10%\">&nbsp;</td>\n",
    "<td width=\"60%\">\n",
    "<p><span style=\"font-size: large;\">ซอฟต์แวร์เซจ: </span></p>\n",
    "<ul>\n",
    "<li>\n",
    "<p><span style=\"font-size: large;\">รวบรวมฟังก์ชันทางคณิตศาสตร์ทั้งที่เป็นฟังก์ชันพื้นฐานและฟังก์ชันที่ใช้งานในระดับสูงสำหรับงานวิจัย</span></p>\n",
    "</li>\n",
    "<li><span style=\"font-size: large;\">มีการโต้ตอบกับผู้ใช้ผ่านหน้าต่างบราว์เซอร์ที่สามารถใช้งานได้บนเครื่องหนึ่งเครื่องหรือเครื่องบนเครือข่าย</span></li>\n",
    "<li><span style=\"font-size: large;\">ใช้การสร้างภาพที่ทำได้ง่ายและรวดเร็ว ผ่านเทคโนโลยีที่ใช้งานผ่านอินเทอร์เน็ต<br /></span></li>\n",
    "<li><span style=\"font-size: large;\">สามารถนำมาพัฒนาโปรแกรม หรือเพิ่มเติมฟังก์ชันที่มีใหม่ได้สะดวก<br /></span></li>\n",
    "<li>\n",
    "<p><span style=\"font-size: large;\">มีการติดต่อกับซอฟต์แวร์อื่น ๆ ได้หลากหลายไม่ว่าจะเป็นซอฟต์แวร์ที่มีลิขสิทธิ์และซอฟต์แวร์ไม่มีลิขสิทธิ์</span></p>\n",
    "</li>\n",
    "<li>\n",
    "<p><span style=\"font-size: large;\">สามารถใช้ทรัพยากรร่วมกันและเป็นแหล่งสำหรับการทำงานร่วมกัน</span></p>\n",
    "</li>\n",
    "<li>\n",
    "<p><span style=\"font-size: large;\">แสดงรหัสที่เขียนทุกบรรทัด และสามารถเรียกรหัสต้นฉบับมาแสดงได้ ยกเว้นในกรณีที่รหัสต้นฉบับถูกคอมไพล์มาแล้ว</span></p>\n",
    "</li>\n",
    "<li><span style=\"font-size: large;\">ฟรี<br /></span></li>\n",
    "</ul>\n",
    "</td>\n",
    "<td width=\"10%\"><span style=\"font-size: large;\">&nbsp;</span></td>\n",
    "<td width=\"10%\"><span style=\"font-size: large;\">&nbsp;</span></td>\n",
    "</tr>\n",
    "</tbody>\n",
    "</table>"
   ]
  },
  {
   "cell_type": "markdown",
   "id": "6a9f54a9",
   "metadata": {},
   "source": [
    "<h2>สิ่งที่ต้องเรียนรู้ก่อนใช้งานซอฟต์แวร์เซจ</h2>\n",
    "<ol>\n",
    "<li>ซอฟต์แวร์เซจใช้แนวคิดการสร้างแผ่นงาน (Worksheet) ในการทำงานทั้งหมด แน่นอนว่าแผ่นงานนี้ประกอบด้วยเซลมากมาย แต่ละเซลมีลักษณะเพียงสองลักษณะคือ   \n",
    "<ul>\n",
    "<li>เซลสำหรับเขียนเอกสาร (Editing cell):ใช้รูปแบบของ HTML และ Latex ในการนำเสนอ</li>\n",
    "<li>เซลสำหรับการคำนวณ (Computing cell):ใช้ภาษาไพทอน พร้อมคลังมาตรฐานที่มาพร้อมกับซอฟต์แวร์เซจ</li>\n",
    "</ul>\n",
    "</li>\n",
    "<li>ซอฟต์แวร์เซจใช้จาวาสคริปต์เป็นหลักทำให้การทำงานบนบราว์เซอร์ที่ไม่เป็นไปตามมาตรฐานอาจมีการทำงานที่ผิดพลาด คำแนะนำคือผู้ใช้ควรเลือกใช้ Firefox กับ Chrome</li>\n",
    "<li>การสั่งประมวลผลสำหรับเซลคำนวณหรือเซลเอกสาร (1) ใช้คีย์ Shift + Enter หรือ (2) กดปุ่ม \"Save changes\" สำหรับเซลเอกสาร กับกด \"Evaluate\" สำหรับเซลคำนวณ</li>\n",
    "<li>การเพิ่มเซลคำนวณทำได้โดยใช้เมาว์สคลิ๊กที่ตำแหน่งระหว่างเซลที่มีเส้นสีฟ้าปรากฎ ในทำนองเดียวกันการเพิ่มเซลเอกสารทำได้โดยใช้การกดคีย์ Shift พร้อมกับการคลิ๊กที่ตำแหน่งระหว่างเซลที่มีเส้นสีฟ้าปรากฎ</li>\n",
    "<li>แผ่นงานที่เต้องการคำนวณสามารถปรับเปลี่ยนให้ซอฟต์แวร์เซจประมวลผลตามหลักไวยากรณ์ของภาษาต่าง ๆ ได้ เช่น R, Scilab, Matlab โดยการเลือกภาษาที่ใช้ในกล่องที่ 4 นับจากทางซ้ายของรายการเลือกด้านบนของแผ่นงาน เมื่อเริ่มต้นซอฟต์แวร์เซจจะเลือก sage</li>\n",
    "<li>หลังจากการประมวลผลเซลคำนวณ ผู้ใช้สามารถบ่งบอกให้ซอฟต์แวร์เซจ แสดงผลในรูปแบบสูตรคณิตศาสตร์ที่สวยงาน ผ่านการทำเครื่องหมายถูก หน้ากล่อง&nbsp; □ Typeset แต่ถ้าผู้ใช้อยากแสดงผลที่สวยงามเฉพาะผลของบางเซลคำนวณให้ใช้คำสั่ง show() ช่วย</li>\n",
    "</ol>"
   ]
  },
  {
   "cell_type": "markdown",
   "id": "2dc7add5",
   "metadata": {},
   "source": [
    "<h1 style=\"text-align: center;\">เริ่มใช้งานซอฟต์แวร์เซจผ่านแผ่นงาน</h1>\n",
    "<h2 style=\"text-align: center;\">หลักการเบื้องต้น ...</h2>\n",
    "<ul>\n",
    "<li>การคำนวณทั้งหมดเกิดจากการพิมพ์คำสั่งในเซลคำนวณ พร้อมกดปุ่ม Shift + Enter ผู้ใช้ต้องพิมพ์ นิพจน์ หรือรหัสโปรแกรมให้ถูกต้อง ผลลัพธ์จึงจะปรากฎใต้กล่องดังกล่าว</li>\n",
    "<li>หลักการพิมพ์นิพจน์ ใช้หลักการเดียวกับซอฟต์แวร์ Matlab, Maple, Octave หรือซอฟต์แวร์อื่น ๆ โดยที่ฟังก์ชันมาตราฐานไม่มีการขึ้นตัวอักขระแรกเป็นอักขระตัวใหญ่เหมือนซอฟต์แวร์ Mathematica</li>\n",
    "</ul>\n",
    "<h3>พิจารณาตัวอย่างการคำนวณต่อไปนี้</h3>"
   ]
  },
  {
   "cell_type": "code",
   "execution_count": 2,
   "id": "a08c5618",
   "metadata": {},
   "outputs": [
    {
     "data": {
      "text/plain": [
       "5"
      ]
     },
     "execution_count": 2,
     "metadata": {},
     "output_type": "execute_result"
    }
   ],
   "source": [
    "2+3                    # Simple addition of 2 and 3"
   ]
  },
  {
   "cell_type": "code",
   "execution_count": 3,
   "id": "4be0ecd7",
   "metadata": {},
   "outputs": [
    {
     "data": {
      "text/plain": [
       "2^2 * 503"
      ]
     },
     "execution_count": 3,
     "metadata": {},
     "output_type": "execute_result"
    }
   ],
   "source": [
    "factor(2012)           # More advanced prime factorization"
   ]
  },
  {
   "cell_type": "code",
   "execution_count": 4,
   "id": "e74b3662",
   "metadata": {},
   "outputs": [
    {
     "data": {
      "text/plain": [
       "(x - 2)^2"
      ]
     },
     "execution_count": 4,
     "metadata": {},
     "output_type": "execute_result"
    }
   ],
   "source": [
    "var('x')               # Treat the identifier name 'x' as a variable\n",
    "factor(x^2 - 4*x + 4)  # Perform a polynomial factorization"
   ]
  },
  {
   "cell_type": "code",
   "execution_count": 5,
   "id": "1b616877",
   "metadata": {},
   "outputs": [
    {
     "data": {
      "text/html": [
       "<html><script type=\"math/tex; mode=display\">\\newcommand{\\Bold}[1]{\\mathbf{#1}}{\\left(x - 2\\right)}^{2}</script></html>"
      ],
      "text/latex": [
       "$$\\newcommand{\\Bold}[1]{\\mathbf{#1}}{\\left(x - 2\\right)}^{2}$$"
      ],
      "text/plain": [
       "(x - 2)^2"
      ]
     },
     "metadata": {},
     "output_type": "display_data"
    }
   ],
   "source": [
    "show(factor(x^2-4*x+4))# Show nice mathematical formula"
   ]
  },
  {
   "cell_type": "markdown",
   "id": "801a837a",
   "metadata": {},
   "source": [
    "<h2>การนิพจน์ที่ประกอบด้วยตัวแปรและแคลคูลัส</h2>\n",
    "<ul>\n",
    "<li>ในงานวิจัยต่าง ๆ ผู้วิจัยมีความจำเป็นต้องใช้การคำนวณฟังก์ชัน และอนุพันธ์อันดับต่าง ๆ ของฟังก์ชันเหล่านั้น ซอฟต์แวร์เซจทำให้การคำนวณดังกล่าวเป็นเรื่องง่ายโดยที่ผู้วิจัยต้องมีการประกาศชื่อของตัวแปรที่ต้องการใช้ทั้งหมด แล้วสร้างนิพจน์ในการคำนวณฟังก์ชันก่อนการเรียกใช้คำสั่ง diff</li>\n",
    "<li>คำสั่ง var ถูกเรียกใช้เพื่อประกาศชื่อของตัวแปรที่จะปรากฎ โดยผู้สร้างแยกชื่อตัวแปรด้วยคอมมา (,) หรือช่องว่าง (Space)</li>\n",
    "</ul>"
   ]
  },
  {
   "cell_type": "code",
   "execution_count": 6,
   "id": "594e357a",
   "metadata": {},
   "outputs": [
    {
     "data": {
      "text/plain": [
       "(x, y, z, epsilon)"
      ]
     },
     "execution_count": 6,
     "metadata": {},
     "output_type": "execute_result"
    }
   ],
   "source": [
    "var('x y z epsilon')           # Declare x y z and epsilon to be variables"
   ]
  },
  {
   "cell_type": "code",
   "execution_count": 7,
   "id": "0075192a",
   "metadata": {},
   "outputs": [
    {
     "data": {
      "text/plain": [
       "x*z^2 + epsilon + tan(x*y)"
      ]
     },
     "execution_count": 7,
     "metadata": {},
     "output_type": "execute_result"
    }
   ],
   "source": [
    "tan(x*y) + x*z^2 + epsilon     # The expression for those variables"
   ]
  },
  {
   "cell_type": "code",
   "execution_count": 8,
   "id": "f65b512b",
   "metadata": {},
   "outputs": [
    {
     "data": {
      "text/plain": [
       "0.642092615934330703006419986594"
      ]
     },
     "execution_count": 8,
     "metadata": {},
     "output_type": "execute_result"
    }
   ],
   "source": [
    "w = 1                          # Define w as the integer number 1\n",
    "N(cot(w),digits=30)            # Compute the numeric value of cot(1) showing 30 digits"
   ]
  },
  {
   "cell_type": "code",
   "execution_count": 9,
   "id": "29d74ea3",
   "metadata": {},
   "outputs": [
    {
     "data": {
      "text/plain": [
       "(tan(x*y)^2 + 1)*y"
      ]
     },
     "execution_count": 9,
     "metadata": {},
     "output_type": "execute_result"
    }
   ],
   "source": [
    "f = tan(x*y) + z^2             # Define f as the function expression\n",
    "f.diff(x)                      # Determine the partial derivative of f w.r.t. x"
   ]
  },
  {
   "cell_type": "code",
   "execution_count": 10,
   "id": "52109c21",
   "metadata": {},
   "outputs": [
    {
     "data": {
      "text/plain": [
       "((tan(x*y)^2 + 1)*y, (tan(x*y)^2 + 1)*x, 2*z)"
      ]
     },
     "execution_count": 10,
     "metadata": {},
     "output_type": "execute_result"
    }
   ],
   "source": [
    "f.gradient()                   # Compute the gradient of f"
   ]
  },
  {
   "cell_type": "code",
   "execution_count": 11,
   "id": "59fede16",
   "metadata": {},
   "outputs": [
    {
     "data": {
      "text/plain": [
       "2"
      ]
     },
     "execution_count": 11,
     "metadata": {},
     "output_type": "execute_result"
    }
   ],
   "source": [
    "f.diff(z, 2)                   # Determine the second order partial derivative of f w.r.t. z"
   ]
  },
  {
   "cell_type": "markdown",
   "id": "dbb19888",
   "metadata": {},
   "source": [
    "แน่นอนว่าหลังจากการกำหนดนิพจน์การคำนวณฟังก์ชันและอนุพันธ์ ผู้วิจัยต้องการให้ประมวลผลค่าฟังก์ชันที่จุดที่ต้องการ เช่น"
   ]
  },
  {
   "cell_type": "code",
   "execution_count": 12,
   "id": "67ef9594",
   "metadata": {},
   "outputs": [
    {
     "data": {
      "text/plain": [
       "z^2 + tan(10)"
      ]
     },
     "execution_count": 12,
     "metadata": {},
     "output_type": "execute_result"
    }
   ],
   "source": [
    "f.subs(x=1, y=10)"
   ]
  },
  {
   "cell_type": "code",
   "execution_count": 13,
   "id": "2d35bc64",
   "metadata": {},
   "outputs": [
    {
     "data": {
      "text/plain": [
       "1"
      ]
     },
     "execution_count": 13,
     "metadata": {},
     "output_type": "execute_result"
    }
   ],
   "source": [
    "f.diff(x).subs(x=0, y=1)"
   ]
  },
  {
   "cell_type": "markdown",
   "id": "93f4d2f4",
   "metadata": {},
   "source": [
    "<p><strong><span style=\"text-decoration: underline;\">แบบฝึกหัด</span></strong> จงสร้างนิพจน์ที่กำหนดให้</p>\n",
    "<ol>\n",
    "<li>$sin(2 x) cos(x^2)$</li>\n",
    "<li>$\\frac{x^4 - 1}{x^5 + 2 x + 1}$</li>\n",
    "<li>$k \\times P \\left(1 - \\frac{P}{K}\\right)$</li>\n",
    "</ol>\n",
    "<p>จงสร้างฟังก์ชันต่อไปนี้</p>\n",
    "<ol>\n",
    "<li>$(x, y, \\theta) \\mapsto \\sin(x^{\\cos(y)} + \\theta) + \\coth(2x) + \\log(3x) * e^{y^3}$</li>\n",
    "<li>$x \\mapsto x^3 - 1$</li>\n",
    "<li>$(x, y) \\mapsto \\cos(x) + \\frac{\\sin(x)}{x}$</li>\n",
    "<li>$(a, x, \\theta) \\mapsto a x + \\theta^2$$</li>\n",
    "</ol>"
   ]
  },
  {
   "cell_type": "markdown",
   "id": "d651b668",
   "metadata": {},
   "source": [
    "นอกจากนี้ ผู้วิจัยสามารถเรียกใช้การประมาณฟังก์ชันด้วย อนุกรมเทย์เลอร์ตามจำนวนเทอมที่ต้องการ"
   ]
  },
  {
   "cell_type": "code",
   "execution_count": 14,
   "id": "4bf6f5e1",
   "metadata": {},
   "outputs": [
    {
     "data": {
      "text/html": [
       "<html><script type=\"math/tex; mode=display\">\\newcommand{\\Bold}[1]{\\mathbf{#1}}\\frac{1}{3628800} \\, x^{10} + \\frac{1}{362880} \\, x^{9} + \\frac{1}{40320} \\, x^{8} + \\frac{1}{5040} \\, x^{7} + \\frac{1}{720} \\, x^{6} + \\frac{1}{120} \\, x^{5} + \\frac{1}{24} \\, x^{4} + \\frac{1}{6} \\, x^{3} + \\frac{1}{2} \\, x^{2} + x + 1</script></html>"
      ],
      "text/latex": [
       "$$\\newcommand{\\Bold}[1]{\\mathbf{#1}}\\frac{1}{3628800} \\, x^{10} + \\frac{1}{362880} \\, x^{9} + \\frac{1}{40320} \\, x^{8} + \\frac{1}{5040} \\, x^{7} + \\frac{1}{720} \\, x^{6} + \\frac{1}{120} \\, x^{5} + \\frac{1}{24} \\, x^{4} + \\frac{1}{6} \\, x^{3} + \\frac{1}{2} \\, x^{2} + x + 1$$"
      ],
      "text/plain": [
       "1/3628800*x^10 + 1/362880*x^9 + 1/40320*x^8 + 1/5040*x^7 + 1/720*x^6 + 1/120*x^5 + 1/24*x^4 + 1/6*x^3 + 1/2*x^2 + x + 1"
      ]
     },
     "metadata": {},
     "output_type": "display_data"
    }
   ],
   "source": [
    "show(taylor(e^x, x, 0, 10))            # Return the Taylor series of e^x using 20 terms"
   ]
  },
  {
   "cell_type": "markdown",
   "id": "755e68ab",
   "metadata": {},
   "source": [
    "<h2>นิพจน์ที่มีตัวอักขระภาษาไทย</h2>\n",
    "<ul>\n",
    "<li>ผู้เขียนสามารถเขียนนิพจน์ที่มีตัวอักขระภาษาไทยปรากฎในสูตรได้ แต่การเขียนดังกล่าวทำได้ในเซลเอกสารเท่านั้น เช่น</li>\n",
    "</ul>\n",
    "<p>$$ก(ข) = \\frac{ข^2}{2 ข + 1}$$</p>\n",
    "<ul>\n",
    "<li>ฟังก์ชัน ก นิยามตามตัวแปร ข โดยที่นำค่าของ ข มายกกำลังสองแล้วหารทั้งหมดด้วย ผลรวมของ 2 เท่าของ ข บวก 1</li>\n",
    "</ul>"
   ]
  },
  {
   "cell_type": "code",
   "execution_count": null,
   "id": "ecd252e4",
   "metadata": {},
   "outputs": [],
   "source": []
  },
  {
   "cell_type": "markdown",
   "id": "4df06ab1",
   "metadata": {},
   "source": [
    "การหารากของฟังก์ชันก็เป็นส่วนประกอบที่สำคัญสำหรับการคำนวณทางคณิตศาสตร์"
   ]
  },
  {
   "cell_type": "code",
   "execution_count": 15,
   "id": "7a4723ce",
   "metadata": {},
   "outputs": [
    {
     "data": {
      "text/html": [
       "<html><script type=\"math/tex; mode=display\">\\newcommand{\\Bold}[1]{\\mathbf{#1}}\\left[\\left(-1.0000000000000002 + 5.551115123125783 \\times 10^{-17}i, 1\\right), \\left(0.5000000000000002 - 0.8660254037844389i, 1\\right), \\left(0.5000000000000001 + 0.8660254037844387i, 1\\right)\\right]</script></html>"
      ],
      "text/latex": [
       "$$\\newcommand{\\Bold}[1]{\\mathbf{#1}}\\left[\\left(-1.0000000000000002 + 5.551115123125783 \\times 10^{-17}i, 1\\right), \\left(0.5000000000000002 - 0.8660254037844389i, 1\\right), \\left(0.5000000000000001 + 0.8660254037844387i, 1\\right)\\right]$$"
      ],
      "text/plain": [
       "[(-1.0000000000000002 + 5.551115123125783e-17*I, 1),\n",
       " (0.5000000000000002 - 0.8660254037844389*I, 1),\n",
       " (0.5000000000000001 + 0.8660254037844387*I, 1)]"
      ]
     },
     "metadata": {},
     "output_type": "display_data"
    }
   ],
   "source": [
    "var('x')                   # Declare x as a variable\n",
    "f = x^3+1                  # Define the mapping f\n",
    "roots = f.roots(ring=CDF)  # Determine all roots of the mapping allowed the complex numbers\n",
    "show(roots)                # Show the formula for all roots"
   ]
  },
  {
   "cell_type": "markdown",
   "id": "11d5d7b7",
   "metadata": {},
   "source": [
    "<h2>การลงจุดในสองมิติ (2D Plotting)</h2>\n",
    "<ul>\n",
    "<li>ใช้คำสั่ง plot เพื่อลงจุดของฟังก์ชันหนึ่งตัวแปร</li>\n",
    "<li>นอกจากนี้ ผู้ใช้สามารถบันทึกรูปที่ปรากฎโดยการกดเมาว์ปุ่มขวาที่รูป แล้วเลือก \"Save Image As...\" เหมือนกับการบันทึกรูปในบราว์เซอร์ปกติ</li>\n",
    "</ul>\n",
    "<p><span style=\"text-decoration: underline;\">ข้อแนะนำ</span> พิมพ์ plot แล้วกด &lt;tab key&gt; จะแสดงข้อความช่วยเหลือที่เกี่ยวกับฟังก์ชัน plot</p>"
   ]
  },
  {
   "cell_type": "code",
   "execution_count": 16,
   "id": "0f5230aa",
   "metadata": {},
   "outputs": [
    {
     "data": {
      "image/png": "[encoded data removed]",
      "text/plain": [
       "Graphics object consisting of 1 graphics primitive"
      ]
     },
     "execution_count": 16,
     "metadata": {},
     "output_type": "execute_result"
    }
   ],
   "source": [
    "plot(cos(x^2), (x, -3, 3), color='red')   # Perform 2 dimensional plot using the red color"
   ]
  },
  {
   "cell_type": "markdown",
   "id": "bfc096eb",
   "metadata": {},
   "source": [
    "<h2 style=\"text-align: center;\">ความสามารถอื่น ๆ ...</h2>\n",
    "<ul>\n",
    "<li>ผู้ใช้สามารถเรียกการคำนวณจากภาษาอื่น ภายในเซลคำนวณได้ด้วยการใส่คำสั่งพิเศษ เช่น</li>\n",
    "</ul>\n"
   ]
  },
  {
   "cell_type": "code",
   "execution_count": 20,
   "id": "142778ae",
   "metadata": {},
   "outputs": [
    {
     "ename": "NameError",
     "evalue": "name 'time' is not defined",
     "output_type": "error",
     "traceback": [
      "\u001b[0;31m---------------------------------------------------------------------------\u001b[0m",
      "\u001b[0;31mNameError\u001b[0m                                 Traceback (most recent call last)",
      "\u001b[0;32m/tmp/ipykernel_5812/850173309.py\u001b[0m in \u001b[0;36m<module>\u001b[0;34m\u001b[0m\n\u001b[1;32m      1\u001b[0m \u001b[0;31m# Default naive parallelism\u001b[0m\u001b[0;34m\u001b[0m\u001b[0;34m\u001b[0m\u001b[0m\n\u001b[1;32m      2\u001b[0m \u001b[0mls\u001b[0m \u001b[0;34m=\u001b[0m \u001b[0;34m[\u001b[0m\u001b[0mInteger\u001b[0m\u001b[0;34m(\u001b[0m\u001b[0;36m2\u001b[0m\u001b[0;34m)\u001b[0m\u001b[0;34m**\u001b[0m\u001b[0mn\u001b[0m\u001b[0;34m-\u001b[0m\u001b[0mInteger\u001b[0m\u001b[0;34m(\u001b[0m\u001b[0;36m1\u001b[0m\u001b[0;34m)\u001b[0m \u001b[0;32mfor\u001b[0m \u001b[0mn\u001b[0m \u001b[0;32min\u001b[0m \u001b[0;34m(\u001b[0m\u001b[0mellipsis_range\u001b[0m\u001b[0;34m(\u001b[0m\u001b[0mInteger\u001b[0m\u001b[0;34m(\u001b[0m\u001b[0;36m190\u001b[0m\u001b[0;34m)\u001b[0m\u001b[0;34m,\u001b[0m\u001b[0mEllipsis\u001b[0m\u001b[0;34m,\u001b[0m\u001b[0mInteger\u001b[0m\u001b[0;34m(\u001b[0m\u001b[0;36m200\u001b[0m\u001b[0;34m)\u001b[0m\u001b[0;34m)\u001b[0m\u001b[0;34m)\u001b[0m\u001b[0;34m]\u001b[0m    \u001b[0;31m# Generate list of 10 elements\u001b[0m\u001b[0;34m\u001b[0m\u001b[0;34m\u001b[0m\u001b[0m\n\u001b[0;32m----> 3\u001b[0;31m \u001b[0mtime\u001b[0m\u001b[0;34m(\u001b[0m\u001b[0mv\u001b[0m \u001b[0;34m=\u001b[0m \u001b[0;34m[\u001b[0m\u001b[0mfactor\u001b[0m\u001b[0;34m(\u001b[0m\u001b[0mx\u001b[0m\u001b[0;34m)\u001b[0m \u001b[0;32mfor\u001b[0m \u001b[0mx\u001b[0m \u001b[0;32min\u001b[0m \u001b[0mls\u001b[0m\u001b[0;34m]\u001b[0m\u001b[0;34m)\u001b[0m   \u001b[0;31m# Time the computation of factor module\u001b[0m\u001b[0;34m\u001b[0m\u001b[0;34m\u001b[0m\u001b[0m\n\u001b[0m",
      "\u001b[0;31mNameError\u001b[0m: name 'time' is not defined"
     ]
    }
   ],
   "source": [
    "# Default naive parallelism \n",
    "ls = [2^n-1 for n in [190..200]]    # Generate list of 10 elements\n",
    "time(v = [factor(x) for x in ls])   # Time the computation of factor module"
   ]
  },
  {
   "cell_type": "code",
   "execution_count": null,
   "id": "2773352b",
   "metadata": {},
   "outputs": [],
   "source": []
  },
  {
   "cell_type": "code",
   "execution_count": null,
   "id": "4db6d8f0",
   "metadata": {},
   "outputs": [],
   "source": []
  },
  {
   "cell_type": "code",
   "execution_count": null,
   "id": "645370c0",
   "metadata": {},
   "outputs": [],
   "source": []
  },
  {
   "cell_type": "code",
   "execution_count": null,
   "id": "3394909d",
   "metadata": {},
   "outputs": [],
   "source": []
  },
  {
   "cell_type": "code",
   "execution_count": null,
   "id": "48c12585",
   "metadata": {},
   "outputs": [],
   "source": []
  },
  {
   "cell_type": "code",
   "execution_count": null,
   "id": "c9a2e723",
   "metadata": {},
   "outputs": [],
   "source": []
  }
 ],
 "metadata": {
  "kernelspec": {
   "display_name": "SageMath 9.5",
   "language": "sage",
   "name": "sagemath"
  },
  "language_info": {
   "codemirror_mode": {
    "name": "ipython",
    "version": 3
   },
   "file_extension": ".py",
   "mimetype": "text/x-python",
   "name": "python",
   "nbconvert_exporter": "python",
   "pygments_lexer": "ipython3",
   "version": "3.10.12"
  }
 },
 "nbformat": 4,
 "nbformat_minor": 5
}
