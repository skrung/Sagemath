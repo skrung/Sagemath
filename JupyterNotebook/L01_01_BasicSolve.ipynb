{
 "cells": [
  {
   "cell_type": "markdown",
   "id": "54960d7a",
   "metadata": {},
   "source": [
    "# เซจซอฟต์แวร์\n",
    "\n",
    "เนื้อหาส่วนใหญ่มาจาก [SAGE document](https://doc.sagemath.org/html/en/tutorial/tour_algebra.html)  \n",
    "เรียบเรียงและแปลโดย รศ. ดร. กรุง สินอภิรมย์สราญ  \n",
    "ภาควิชาคณิตศาสตร์และวิทยาการคอมพิวเตอร์  \n",
    "คณะวิทยาศาสตร์ จุฬาลงกรณ์มหาวิทยาลัย  "
   ]
  },
  {
   "cell_type": "markdown",
   "id": "fd16bcda",
   "metadata": {},
   "source": [
    "## การแก้สมการ\n",
    "\n",
    "ฟังก์ชัน solve() ใช้หาผลเฉลยระบบสมการ เริ่มจากการกำหนดชื่อตัวแปร แล้วเพิ่มอาร์กิวเมนต์ในฟังก์ชัน solve():"
   ]
  },
  {
   "cell_type": "code",
   "execution_count": 1,
   "id": "9f464bc6",
   "metadata": {},
   "outputs": [
    {
     "data": {
      "text/plain": [
       "[x == -3, x == -2]"
      ]
     },
     "execution_count": 1,
     "metadata": {},
     "output_type": "execute_result"
    }
   ],
   "source": [
    "x = var('x')  # การประกาศว่า x เป็นตัวแปร\n",
    "solve(x^2+5*x+6, x)"
   ]
  },
  {
   "cell_type": "markdown",
   "id": "167abf6d",
   "metadata": {},
   "source": [
    "ผู้ใช้สามารถหาผลเฉลยในรูปของตัวแปรด้วย"
   ]
  },
  {
   "cell_type": "code",
   "execution_count": 2,
   "id": "21c7acd7",
   "metadata": {},
   "outputs": [
    {
     "data": {
      "text/html": [
       "<html><script type=\"math/tex; mode=display\">\\newcommand{\\Bold}[1]{\\mathbf{#1}}\\left[x = -\\frac{b + \\sqrt{b^{2} - 4 \\, a c}}{2 \\, a}, x = -\\frac{b - \\sqrt{b^{2} - 4 \\, a c}}{2 \\, a}\\right]</script></html>"
      ],
      "text/latex": [
       "$$\\newcommand{\\Bold}[1]{\\mathbf{#1}}\\left[x = -\\frac{b + \\sqrt{b^{2} - 4 \\, a c}}{2 \\, a}, x = -\\frac{b - \\sqrt{b^{2} - 4 \\, a c}}{2 \\, a}\\right]$$"
      ],
      "text/plain": [
       "[x == -1/2*(b + sqrt(b^2 - 4*a*c))/a, x == -1/2*(b - sqrt(b^2 - 4*a*c))/a]"
      ]
     },
     "metadata": {},
     "output_type": "display_data"
    }
   ],
   "source": [
    "x, a, b, c = var('x a b c')\n",
    "result = solve([a*x^2+b*x+c==0], x)\n",
    "show(result)"
   ]
  },
  {
   "cell_type": "markdown",
   "id": "9b35d45a",
   "metadata": {},
   "source": [
    "หรือแก้เป็นระบบสมการ"
   ]
  },
  {
   "cell_type": "code",
   "execution_count": 3,
   "id": "8cf2a72c",
   "metadata": {},
   "outputs": [
    {
     "data": {
      "text/plain": [
       "[[x == (3/2), y == (-1/2)]]"
      ]
     },
     "execution_count": 3,
     "metadata": {},
     "output_type": "execute_result"
    }
   ],
   "source": [
    "x, y = var('x, y')\n",
    "solve([x-y==2, x+y==1], x, y)"
   ]
  },
  {
   "cell_type": "markdown",
   "id": "d7577599",
   "metadata": {},
   "source": [
    "ตัวอย่างจาก Jason Grout "
   ]
  },
  {
   "cell_type": "code",
   "execution_count": 4,
   "id": "3d389491",
   "metadata": {},
   "outputs": [
    {
     "data": {
      "text/plain": [
       "(x, y, p, q)"
      ]
     },
     "execution_count": 4,
     "metadata": {},
     "output_type": "execute_result"
    }
   ],
   "source": [
    "var('x, y, p, q')"
   ]
  },
  {
   "cell_type": "code",
   "execution_count": 5,
   "id": "47d6f366",
   "metadata": {},
   "outputs": [
    {
     "data": {
      "text/plain": [
       "[[p == 1, q == 8, x == -4/3*sqrt(10) - 2/3, y == 1/6*sqrt(10) - 2/3], [p == 1, q == 8, x == 4/3*sqrt(10) - 2/3, y == -1/6*sqrt(10) - 2/3]]"
      ]
     },
     "execution_count": 5,
     "metadata": {},
     "output_type": "execute_result"
    }
   ],
   "source": [
    "eq1 = p+q==9\n",
    "eq2 = q*y+p*x == -6\n",
    "eq3 = q*y^2+p*x^2==24\n",
    "solve([eq1, eq2, eq3, p==1], p, q, x, y)"
   ]
  },
  {
   "cell_type": "markdown",
   "id": "a056f793",
   "metadata": {},
   "source": [
    "สำหรับการหาผลเฉลยผ่านการประมาณเชิงตัวเลข"
   ]
  },
  {
   "cell_type": "code",
   "execution_count": 6,
   "id": "1a1da2ec",
   "metadata": {},
   "outputs": [
    {
     "data": {
      "text/plain": [
       "[[1.0000000, 8.0000000, -4.8830369, -0.13962039],\n",
       " [1.0000000, 8.0000000, 3.5497035, -1.1937129]]"
      ]
     },
     "execution_count": 6,
     "metadata": {},
     "output_type": "execute_result"
    }
   ],
   "source": [
    "solns = solve([eq1, eq2, eq3, p==1],p,q,x,y, solution_dict=True)\n",
    "[[s[p].n(30), s[q].n(30), s[x].n(30), s[y].n(30)] for s in solns]"
   ]
  },
  {
   "cell_type": "markdown",
   "id": "a218c44e",
   "metadata": {},
   "source": [
    "## การหาผลเฉลยเชิงตัวเลข\n",
    "ในกรณีที่ solve() ไม่สามารถหาผลเฉลยได้ ผู้ใช้สามารถใช้ find_root() เพื่อหาผลเฉลยเชิงตัวเลข"
   ]
  },
  {
   "cell_type": "code",
   "execution_count": 7,
   "id": "c95d4483",
   "metadata": {},
   "outputs": [
    {
     "data": {
      "text/plain": [
       "[sin(theta) == cos(theta)]"
      ]
     },
     "execution_count": 7,
     "metadata": {},
     "output_type": "execute_result"
    }
   ],
   "source": [
    "theta = var('theta')\n",
    "solve(cos(theta)==sin(theta), theta)"
   ]
  },
  {
   "cell_type": "code",
   "execution_count": 8,
   "id": "b7a40571",
   "metadata": {},
   "outputs": [
    {
     "data": {
      "text/plain": [
       "0.7853981633974484"
      ]
     },
     "execution_count": 8,
     "metadata": {},
     "output_type": "execute_result"
    }
   ],
   "source": [
    "phi = var('phi')\n",
    "find_root(cos(phi)==sin(phi), 0, pi/2)"
   ]
  },
  {
   "cell_type": "code",
   "execution_count": null,
   "id": "3ad760c0",
   "metadata": {},
   "outputs": [],
   "source": []
  },
  {
   "cell_type": "code",
   "execution_count": null,
   "id": "82747b29",
   "metadata": {},
   "outputs": [],
   "source": []
  },
  {
   "cell_type": "code",
   "execution_count": null,
   "id": "b06b51dd",
   "metadata": {},
   "outputs": [],
   "source": []
  },
  {
   "cell_type": "code",
   "execution_count": null,
   "id": "ee100590",
   "metadata": {},
   "outputs": [],
   "source": []
  },
  {
   "cell_type": "code",
   "execution_count": null,
   "id": "e942dfcd",
   "metadata": {},
   "outputs": [],
   "source": []
  },
  {
   "cell_type": "code",
   "execution_count": null,
   "id": "5da18d1b",
   "metadata": {},
   "outputs": [],
   "source": []
  },
  {
   "cell_type": "code",
   "execution_count": null,
   "id": "2fe29c4b",
   "metadata": {},
   "outputs": [],
   "source": []
  },
  {
   "cell_type": "code",
   "execution_count": null,
   "id": "6f85405a",
   "metadata": {},
   "outputs": [],
   "source": []
  }
 ],
 "metadata": {
  "kernelspec": {
   "display_name": "SageMath 9.5",
   "language": "sage",
   "name": "sagemath"
  },
  "language_info": {
   "codemirror_mode": {
    "name": "ipython",
    "version": 3
   },
   "file_extension": ".py",
   "mimetype": "text/x-python",
   "name": "python",
   "nbconvert_exporter": "python",
   "pygments_lexer": "ipython3",
   "version": "3.10.12"
  }
 },
 "nbformat": 4,
 "nbformat_minor": 5
}
