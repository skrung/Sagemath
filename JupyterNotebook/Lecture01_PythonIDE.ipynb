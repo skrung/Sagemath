{
 "cells": [
  {
   "cell_type": "markdown",
   "id": "e34a11eb",
   "metadata": {},
   "source": [
    "# บทที่ 1: ภาษาไพทอน\n",
    "\n",
    "2301520 Fundamental of Applied Mathematics and Computational Science\n",
    "\n",
    "เรียบเรียงโดย รองศาตราจารย์ ดร. กรุง สินอภิรมย์สราญ  \n",
    "รุ่นที่ 1. วันพุธที่ 18 ธันวาคม 2567  "
   ]
  },
  {
   "cell_type": "markdown",
   "id": "a94cd9d8",
   "metadata": {},
   "source": [
    "## &#49;. ระบบพัฒนาโปรแกรม\n",
    "\n",
    "ระบบพัฒนาโปรแกรมเป็น [Project Jupyter](https://en.wikipedia.org/wiki/Project_Jupyter) ให้บริการแบบโต้ตอบกับผู้เขียนโปรแกรมผ่านภาษาพัฒนาโปรแกรมหลากหลายภาษา จัดเป็นคลาวด์แบบ [PaaS](https://en.wikipedia.org/wiki/Platform_as_a_service)\n",
    "ผู้เขียนสามารถส่งคำสั่งไปที่ระบบปฏิบัติการที่ใช้งานอยู่ได้ผ่าน Code cell โดยบรรทัดแรกใน Code cell เริ่มด้วยสัญลักษณ์ !"
   ]
  },
  {
   "cell_type": "code",
   "execution_count": 1,
   "id": "4bde7352",
   "metadata": {},
   "outputs": [
    {
     "name": "stdout",
     "output_type": "stream",
     "text": [
      "Linux sage-VirtualBox 6.8.0-49-generic #49~22.04.1-Ubuntu SMP PREEMPT_DYNAMIC Wed Nov  6 17:42:15 UTC 2 x86_64 x86_64 x86_64 GNU/Linux\r\n"
     ]
    }
   ],
   "source": [
    "!uname -a"
   ]
  },
  {
   "cell_type": "markdown",
   "id": "182c2ba8",
   "metadata": {},
   "source": [
    "### &#49;.1 หลักการทำงานของจูปิเตอร์\n",
    "\n",
    "ผู้ใช้งานจูปิเตอร์ สามารถพัฒนาโปรแกรมไป พร้อมกับเอกสารอธิบาย ในไฟล์เดียวกัน โดยสมุดจดจูปิเตอร์คือไฟล์อิเล็กทรอนิกซ์ที่ประกอบจากเซลบันทึกเรียงต่อกัน\n",
    "\n",
    "**เซล** ในจูปิเตอร์มีสองชนิดได้แก่\n",
    "* **เซลรหัส (Code cell)** ใช้เขียนรหัสโปรแกรมภาษาไพทอน ส่งไปประมวลผล แล้วแสดงผลลัพธ์กลับมาที่เซลนี้\n",
    "* **เซลมาร์คดาวน์ (Markdown cell)** ใช้เขียนเอกสารกำกับการพัฒนาโปรแกรม  โดยเซลมาร์คดาวน์ที่สนับสนุน รูปแบบของ Markdown, HTML, Latex"
   ]
  },
  {
   "cell_type": "code",
   "execution_count": 2,
   "id": "f042afb2",
   "metadata": {},
   "outputs": [
    {
     "name": "stdout",
     "output_type": "stream",
     "text": [
      "Degree of  32 °C =  448/5 °F\n"
     ]
    }
   ],
   "source": [
    "# ตัวอย่างของเซลรหัส พร้อมผลลัพธ์ที่ประมวลผลได้อยู่ด้านล่างของเซล\n",
    "celsius = 32\n",
    "fahrenheit = (celsius*9/5)+32\n",
    "print(\"Degree of \", celsius, \"°C = \", fahrenheit, \"°F\")"
   ]
  },
  {
   "cell_type": "markdown",
   "id": "c3c17ba2",
   "metadata": {},
   "source": [
    "**ตัวอย่างเซลมาร์คดาวน์**\n",
    "\n",
    "* แสดงผลลัพธ์ผ่าน tag จากภาษา HTML <font color=\"orange\">HTML</font>\n",
    "* แสดงผลลัพธ์ด้วย $\\LaTex$\n",
    "\n",
    "$$\\vert x \\vert = \\left\\{\\begin{array}{ll} x & \\text{ if } x \\ge 0 \\\\ -x & \\text{ if } x < 0\\end{array} \\right. $$"
   ]
  },
  {
   "cell_type": "markdown",
   "id": "95378338",
   "metadata": {},
   "source": [
    "### &#49;.2. แทนเครื่องคิดเลข\n",
    "\n",
    "จูปิเตอร์สนับสนุนการประมวลผลด้วยภาษาไพทอน ผู้เขียนสามารถพิมพ์นิพจน์ที่ต้องการคำนวณได้ในกล่องเซลรหัส"
   ]
  },
  {
   "cell_type": "code",
   "execution_count": 3,
   "id": "3f5b22ba",
   "metadata": {},
   "outputs": [
    {
     "data": {
      "text/plain": [
       "8"
      ]
     },
     "execution_count": 3,
     "metadata": {},
     "output_type": "execute_result"
    }
   ],
   "source": [
    "1+7"
   ]
  },
  {
   "cell_type": "code",
   "execution_count": 4,
   "id": "8431f7a3",
   "metadata": {},
   "outputs": [
    {
     "data": {
      "text/plain": [
       "(-4, 21, 13/4, 9, 2, 1)"
      ]
     },
     "execution_count": 4,
     "metadata": {},
     "output_type": "execute_result"
    }
   ],
   "source": [
    "# แสดงการคำนวณหลายนิพจน์พร้อมกัน คั่นด้วยคอมมา\n",
    "3-7, 3*7, 13/4, 3**2, 15//7, 15%7"
   ]
  },
  {
   "cell_type": "code",
   "execution_count": 5,
   "id": "b1e980dd",
   "metadata": {},
   "outputs": [
    {
     "data": {
      "text/plain": [
       "(8, 8)"
      ]
     },
     "execution_count": 5,
     "metadata": {},
     "output_type": "execute_result"
    }
   ],
   "source": [
    "2^3, 2**3 # สำหรับเซจ นิพจน์ทั้งสองให้ค่าเดียวกัน"
   ]
  },
  {
   "cell_type": "markdown",
   "id": "87ef5c87",
   "metadata": {},
   "source": [
    "### &#49;.3. การใช้งานเซลมาร์คดาวน์\n",
    "\n",
    "สำหรับเซลมาร์คดาวน์ในจูปิเตอร์ ผู้เขียนสามารถใช้ tag ทั้งหมดจาก [HTML 5](https://en.wikipedia.org/wiki/HTML) หรือใช้ภาษามาร์คดาวน์ [Markdown](https://en.wikipedia.org/wiki/Markdown) หรือใช้ [LaTeX](https://en.wikipedia.org/wiki/LaTeX)"
   ]
  },
  {
   "cell_type": "markdown",
   "id": "197b9163",
   "metadata": {},
   "source": [
    "## &#50;. แนะนำภาษาไพทอน\n",
    "\n",
    "ภาษาไพทอนเป็นภาษาสำหรับการพัฒนาโปรแกรมระดับสูง (ระดับสูงนี้กล่าวถึงลักษณะการเขียนโปรแกรมที่อ่านโดยมนุษย์ได้ง่าย) จัดเป็นภาษาที่ทำงานแบบโต้ตอบ (Interpreter) เหมาะสำหรับการเขียนและออกแบบโปรแกรมที่กระชับและสั้น\n",
    "\n",
    "**ข้อดีของภาษาไพทอน**\n",
    "1. ภาษาไพทอนสามารถใช้งานได้ฟรีอย่างถูกกฎหมาย ดู <a href=\"https://www.python.org/psf/\">Python software Foundation</a>\n",
    "2. สภาพแวดล้อมของภาษาไพทอนทำงานบนหลายแพลตฟอร์ม (Windows, Unix, MacOS, Linux)\n",
    "3. รูปแบบของการเขียนภาษาใช้การย่อหน้าในการกำหนดกลุ่มของคำสั่งในระดับเดียวกัน ทำให้ รหัสโปรแกรมดูไม่ยุ่งยาก\n",
    "4. มีโมดูลขยายการทำงานในสาขาต่าง ๆ มากมาย ดู <a href=\"https://pypi.org/project/pip/\">Python PIP module</a>\n",
    "\n",
    "**ความแตกต่างระหว่าง Interpreter กับ Compiler**\n",
    "\n",
    "สำหรับนักพัฒนาโปรแกรม รหัสโปรแกรมที่เขียนจำเป็นต้องถูกแปลงให้ เป็นภาษาที่เครื่องคอมพิวเตอร์ทำงานได้ เรียก \"machine code\" ซึ่งเป็นรหัสภาษาเครื่องมีรูปแบบที่อ่านยากสำหรับมนุษย์\n",
    "\n",
    "ภาษาซีเป็นภาษาหนึ่งที่ผู้พัฒนาโปรแกรมต้องนำรหัสโปรแกรมที่ได้ แปลงให้เป็นรหัสโปรแกรมก่อนประมวลผล เรียก **การคอมไพล์** รหัสที่ได้สามารถนำไปประมวลผลบนระบบปฏิบัติการที่คอมไพล์แล้ว วิธีการดังกล่าวคือการเปลี่ยนรหัสโปรแกรมให้เป็นรหัสเครื่องทำให้การทำงานซ้ำ ๆ หลายครั้งใช้เวลารวดเร็ว\n",
    "\n",
    "แต่หลักการดังกล่าวไม่เหมาะกับการพัฒนาโปรแกรมที่มีการปรับเปลี่ยน รหัสโปรแกรมบ่อยครั้ง เพราะการคอมไพล์แต่ละครั้งใช้เวลาในการประมวลผล วิธีการที่ดีกว่าสำหรับการพัฒนาโปรแกรมที่มีการเปลี่ยนแปลงบ่อย ๆ คือการเขียนทีละคำสั่ง แปลงและประมวลผลทันทีที่เรียกว่า การเขียนโปรแกรมแบบโต้ตอบ (Interpreter) โดยใช้หลักการ REPL = Read, Evaluate, Print, Loop\n",
    "\n",
    "REPL เป็นการเขียนโปรแกรมที่นำข้อมูลที่บันทึกไว้ในตัวแปรโปรแกรม อ้างถึงผ่านขื่อวัตถุ ประมวลผลโดยแปลงเป็นรหัสเครื่อง แสดงผลลัพธ์ แล้ววนซ้ำ รอการประมวลผลด้วย REPL อีกครั้ง"
   ]
  },
  {
   "cell_type": "code",
   "execution_count": 6,
   "id": "ee3f9e14",
   "metadata": {},
   "outputs": [
    {
     "data": {
      "text/plain": [
       "30"
      ]
     },
     "execution_count": 6,
     "metadata": {},
     "output_type": "execute_result"
    }
   ],
   "source": [
    "x = 10 # ค่าจำนวนเต็ม 10 ถูกสร้างผ่านการอ้างชื่อตัวแปรโปรแกรม x\n",
    "y = 20 # ค่าจำนวนเต็ม 20 ถูกสร้างผ่านการอ้างชื่อตัวแปรโปรแกรม y\n",
    "x + y  # คำนวณค่าผลบวกของตัวแปรโปรแกรม x กับ y"
   ]
  },
  {
   "cell_type": "markdown",
   "id": "52adb6ab",
   "metadata": {},
   "source": [
    "**เซลรหัส (Code cell)**\n",
    "1. เรียกใช้คำสั่งในระบบปฏิบัติการผ่านสัญลักษณ์ !\n",
    "2. ประมวลผลรหัสโปรแกรมบนสภาพแวดล้อมไพทอน\n",
    "3. ผลลัพธ์ที่ได้จากการประมวลผล แสดงผลลัพธ์ใต้เซลด้วยรูปแบบ out[n]"
   ]
  },
  {
   "cell_type": "code",
   "execution_count": 7,
   "id": "ef79c18a",
   "metadata": {},
   "outputs": [
    {
     "name": "stdout",
     "output_type": "stream",
     "text": [
      "/home/sage/2301520\r\n"
     ]
    }
   ],
   "source": [
    "!pwd"
   ]
  },
  {
   "cell_type": "markdown",
   "id": "be1957e0",
   "metadata": {},
   "source": [
    "**เซลมาร์คดาวน์ (Markdown cell)**\n",
    "1. สนับสนุนการเขียนด้วยภาษา Markdown ดู <a href=\"https://www.markdownguide.org/\">Markdown Guide</a>\n",
    "2. ผู้พัฒนาสามารถเขียนข้อความตามโครงสร้างของภาษา HTML ในเซลข้อความ ดูเอกสารเพิ่มเติมได้จาก <a href=\"https://www.w3.org/\">W3C</a>\n",
    "3. นอกจากนี้ ผู้เขียนสามารถเขียนสูตรคณิตศาสตร์ ด้วยภาษา Latex ที่อยู่ระหว่าง &dollar; "
   ]
  },
  {
   "cell_type": "markdown",
   "id": "acbf0641",
   "metadata": {},
   "source": [
    "### &#50;.1. ชื่อและข้อมูลที่บันทึกในสภาพแวดล้อมของภาษาไพทอน\n",
    "\n",
    "ผู้พัฒนาโปรแกรมภาษาไพทอนจะเขียนรหัสโปรแกรมที่ทำงานบนสภาพแวดล้อมภาษาไพทอน ที่มีการอ้างถึงวัตถุที่บรรจุข้อมูลด้วยชื่อ\n",
    "\n",
    "การสร้างวัตถุในสภาพแวดล้อมภาษาไพทอนทำได้โดยการกำหนดชื่อ ตามด้วยสัญลักษณ์ = แล้วตามด้วยค่า   \n",
    "\n",
    "ชื่อดังกล่าวเรียกว่า **ตัวแปรโปรแกรม** โดยผู้พัฒนาโปรแกรมสามารถอ้างถึงค่าที่อ้างถึงของตัวแปรโปรแกรมผ่านชื่อ\n",
    "ในที่นี้ภาษาไพทอนสนับสนุนการกำหนดค่าได้มากกว่าหนึ่งตัวแปรโปรแกรมในหนึ่งคำสั่ง"
   ]
  },
  {
   "cell_type": "code",
   "execution_count": 8,
   "id": "1bf5bab1",
   "metadata": {},
   "outputs": [
    {
     "data": {
      "text/plain": [
       "(4, -2)"
      ]
     },
     "execution_count": 8,
     "metadata": {},
     "output_type": "execute_result"
    }
   ],
   "source": [
    "a = 4\n",
    "b = -2\n",
    "a, b"
   ]
  },
  {
   "cell_type": "code",
   "execution_count": 9,
   "id": "d433f6c0",
   "metadata": {},
   "outputs": [
    {
     "data": {
      "text/plain": [
       "(-2, 4)"
      ]
     },
     "execution_count": 9,
     "metadata": {},
     "output_type": "execute_result"
    }
   ],
   "source": [
    "a, b = b, a\n",
    "a, b"
   ]
  },
  {
   "cell_type": "code",
   "execution_count": 10,
   "id": "eee91493",
   "metadata": {},
   "outputs": [
    {
     "data": {
      "text/plain": [
       "(<class 'sage.rings.integer.Integer'>,\n",
       " <class 'str'>,\n",
       " <class 'sage.rings.integer.Integer'>)"
      ]
     },
     "execution_count": 10,
     "metadata": {},
     "output_type": "execute_result"
    }
   ],
   "source": [
    "type(a), type('Krung'), type(0b110)"
   ]
  },
  {
   "cell_type": "markdown",
   "id": "921ff47a",
   "metadata": {},
   "source": [
    "### &#50;.2. การประมวลจำนวน\n",
    "\n",
    "จำนวนในภาษาไพทอนแบ่งออกได้เป็นสามชนิดคือ\n",
    "1. จำนวนเต็ม (integer)\n",
    "2. จำนวนจริง (float)\n",
    "3. จำนวนเชิงซ้อน (complex)\n",
    "\n",
    "และนิพจน์จำนวนในภาษาไพทอนจะเขียนได้จาก\n",
    "* ค่าจำนวน\n",
    "* อ้างถึงผ่านตัวแปรโปรแกรม\n",
    "* การคำนวณที่ได้จากตัวดำเนินการกับนิพจน์\n",
    "* การใช้วงเล็บในกรณีที่ลำดับของการประมวลผลไม่เป็นไปตามกติกาปกติ\n",
    "* การเรียกฟังก์ชัน\n",
    "\n",
    "การตัดสินใจชนิดของนิพจน์จะได้จากกติกาต่อไปนี้\n",
    "* จำนวนเต็ม ตัวดำเนินการ จำนวนเต็ม ได้ค่าเป็นจำนวนเต็ม\n",
    "* จำนวนเต็ม ตัวดำเนินการ จำนวนจริง ได้ค่าเป็นจำนวนจริง\n",
    "* จำนวนเต็ม ตัวดำเนินการ จำนวนเชิงซ้อน ได้ค่าเป็นจำนวนเชิงซ้อน\n",
    "* จำนวนจริง ตัวดำเนินการ จำนวนเต็ม ได้ค่าเป็นจำนวนจริง\n",
    "* จำนวนจริง ตัวดำเนินการ จำนวนจริง ได้ค่าเป็นจำนวนจริง\n",
    "* จำนวนจริง ตัวดำเนินการ จำนวนเชิงซ้อน ได้ค่าเป็นจำนวนเชิงซ้อน\n",
    "* จำนวนเชิงซ้อน ตัวดำเนินการ จำนวนเต็ม ได้ค่าเป็นจำนวนเชิงซ้อน\n",
    "* จำนวนเชิงซ้อน ตัวดำเนินการ จำนวนจริง ได้ค่าเป็นจำนวนเชิงซ้อน\n",
    "* จำนวนเชิงซ้อน ตัวดำเนินการ จำนวนเชิงซ้อน ได้ค่าเป็นจำนวนเชิงซ้อน\n",
    "เขียนโดยย่อ จำนวนเต็ม < จำนวนจริง < จำนวนเชิงซ้อน\n",
    "\n",
    "ในที่นี้ค่าตรรกะจัดว่าเป็นจำนวนเต็ม"
   ]
  },
  {
   "cell_type": "code",
   "execution_count": 11,
   "id": "78e0fcf0",
   "metadata": {},
   "outputs": [
    {
     "name": "stdout",
     "output_type": "stream",
     "text": [
      "24 <class 'sage.rings.integer.Integer'>\n",
      "2.71800000000000 <class 'sage.rings.real_mpfr.RealLiteral'>\n",
      "3.00000000000000 + 1.00000000000000*I <class 'sage.rings.complex_mpfr.ComplexNumber'>\n"
     ]
    }
   ],
   "source": [
    "print(24, type(24))\n",
    "print(2.718, type(2.718))\n",
    "print(3+1j, type(3+1j))"
   ]
  },
  {
   "cell_type": "markdown",
   "id": "6c77b6cd",
   "metadata": {},
   "source": [
    "**ตัวดำเนินการจำนวน**\n",
    "\n",
    "ตัวดำเนินการจำนวนมีการประมวลผลตามลำดับดังนี้ ในกรณีที่ตัวดำเนินการทั้งคู่อยู่ในลำดับเดียวกัน จะมีการประมวลผลจากซ้ายไปขวา\n",
    "* ตัวดำเนินการลำดับสูงสุดคือ &#42;&#42; แทนการยกกำลัง\n",
    "* ตัวดำเนินการลำดับรองลงมาคือ &#42; แทนการคูณ และ &#47; แทนการหาร\n",
    "* ตัวดำเนินการลำดับรองสุดท้ายคือ &#37; แทนการหารเอาเศษ &#47;&#47; แทนการหารเอาส่วน\n",
    "* ตัวดำเนินการลำดับต่ำสุดคือ &#43; แทนการบวก และ &#45; แทนการลบ"
   ]
  },
  {
   "cell_type": "code",
   "execution_count": 12,
   "id": "5653aa0c",
   "metadata": {},
   "outputs": [
    {
     "name": "stdout",
     "output_type": "stream",
     "text": [
      "x =  4  and y =  3\n",
      "4 ** 3 = 64\n",
      "4 * 3 = 12\n",
      "4 / 3 = 4/3\n",
      "4 % 3 = 1\n",
      "4 // 3 = 1\n",
      "4 + 3 = 7\n",
      "4 - 3 = 1\n"
     ]
    }
   ],
   "source": [
    "x, y = 4, 3\n",
    "print('x = ', x, \" and y = \", y)\n",
    "print(x, '**', y, '=', x**y) # Exponentiation\n",
    "print(x, '*', y, '=', x*y)   # Multiplication\n",
    "print(x, '/', y, '=', x/y)   # Division\n",
    "print(x, '%', y, '=', x%y)   # Modulus\n",
    "print(x, '//', y, '=', x//y) # Quotient division\n",
    "print(x, '+', y, '=', x+y)   # Addition\n",
    "print(x, '-', y, '=', x-y)   # Subtraction"
   ]
  },
  {
   "cell_type": "code",
   "execution_count": 13,
   "id": "5a738b64",
   "metadata": {},
   "outputs": [
    {
     "name": "stdout",
     "output_type": "stream",
     "text": [
      "2*4+5 =  13\n",
      "2*(4+5) =  18\n"
     ]
    }
   ],
   "source": [
    "# การใช้วงเล็บ บังคับลำดับในการประมวลผลได้\n",
    "print(\"2*4+5 = \", 2*4+5)\n",
    "print(\"2*(4+5) = \", 2*(4+5))"
   ]
  },
  {
   "cell_type": "markdown",
   "id": "19cc2783",
   "metadata": {},
   "source": [
    "### &#50;.3. ฟังก์ชันภายในของภาษาไพทอน\n",
    "\n",
    "ภาษาไพทอนขยายความสามารถของภาษาด้วยการเรียกใช้ฟังก์ชัน\n",
    "สำหรับสภาพแวดล้อมไพทอนมาพร้อมกับฟังก์ชันบางฟังก์ชันเรียก ฟังก์ชันภายใน (Built-in function)"
   ]
  },
  {
   "cell_type": "code",
   "execution_count": 15,
   "id": "8e0c3285",
   "metadata": {},
   "outputs": [
    {
     "name": "stdout",
     "output_type": "stream",
     "text": [
      "Python 3.10.12\r\n"
     ]
    }
   ],
   "source": [
    "!python3 --version"
   ]
  },
  {
   "cell_type": "markdown",
   "id": "4712d5f1",
   "metadata": {},
   "source": [
    "**รายชื่อฟังก์ชันภายในของภาษาไพทอน 3.7.12**\n",
    "\n",
    " **ชื่อฟังก์ชัน**         | **คำอธิบาย** | **ตัวอย่างการใช้งาน**  \n",
    "---------------------|-------------|--------------------\n",
    "abs(x)               | ส่งค่าสัมบูรณ์ของจำนวน x | abs(-1) ได้ค่า 1  \n",
    "all(itobj)           | ส่งค่าความจริงเป็นจริงเมื่อทุกสมาชิกใน itobj ให้ค่าเป็นจริง มิฉะนั้นให้ค่าเป็นเท็จ | all([True, True]) ให้ค่าเป็นจริง  \n",
    "any(itobj)           | ส่งค่าความจริงเป็นเท็จเมื่อทุกสมาชิกใน itobj ให้ค่าเป็นเท็จ มิฉะนั้นให้ค่าเป็นจริง | any([False, False]) ให้ค่าเป็นเท็จ  \n",
    "ascii(obj)           | ส่งค่าสายอักขระที่แทนค่าของวัตถุนั้น | ascii(45) ให้ค่าเป็น a  \n",
    "bin(x)               | ให้ค่าเลขฐานสองของจำนวน x | bin(10) ให้ค่าเป็น '0b1010'  \n",
    "bool(itobj)          | ให้ค่าความจริงของแต่ละสมาชิกใน itobj | bool([0, 1]) ให้ค่าเป็น [False True]  \n",
    "breakpoint()         | ใช้ในการดีบักโปรแกรม | ....  \n",
    "bytearray(itobj)     | ส่งค่าแถวลำดับไบต์ของสมาชิกใน itobj | bytearray([0, 1])\n",
    "bytes(x)             | ส่งค่าไบต์ของแต่ละสมาชิกใน itobj  | byte(10)\n",
    "callable(obj)        | ทดสอบว่าวัตถุดังกล่าวเรียกแบบฟังก์ชันหรือไม่ | callable(abs)  \n",
    "chr(i)               | ให้ค่าตัวอักขระตามรหัส ASCII ของ i | chr(45) ให้ค่า a  \n",
    "@classmethod         | สร้างฟังก์ชันที่เขียนต่อไปนี้ให้เป็น เมทอดของคลาส | ...  \n",
    "compile(source)      | คอมไพล์รหัสโปรแกรมแล้วเรียกใช้ด้วย exec() หรือ eval() | ...  \n",
    "complex(real [,img]) | ส่งค่าจำนวนเชิงซ้อนจากค่าจริง real กับค่าจินตภาพ img (ละได้) | complex(2, 1) ได้ 2+1j  \n",
    "delattr(obj,name)    | กำจัดแอ็ดทริบิว name ออกจากวัตถุ obj | delattr(x, show) เหมือนกับคำสั่ง del x.show  \n",
    "dict(itobj)          | สร้างวัตถุที่เป็นดิกชันนารีจาก itobj | dict([('a', 1), ('b', 2)]) ได้ {'a':1, 'b':2}  \n",
    "dir(obj)             | แสดงรายการแอดทริบิวกับวัตถุ obj | dir('krung') แสดงรายการแอดทริบิวทั้งหมดของวัตถุสายอักขระ  \n",
    "divmod(inta, intb)   | แปลงค่าจำนวนเต็ม inta หารด้วย intb เป็นตัวหารและเศษ | divmod(4, 3) ได้ค่าเป็น (1, 1)  \n",
    "enumerate(itobj)     | ส่งคู่ของแต่ละสมาชิกใน itobj ด้วยดัชนีและค่า | enumerate('Krung') ได้ [(0, 'K'), (1, 'r'), (2, 'u'), (3, 'n'), (4, 'g')  \n",
    "eval(exp)            | ประมวลผลนิพจน์สายอักขระ exp | eval('1+2') ส่งค่า 3  \n",
    "exec(obj)            | ประมวลผลวัตถุในไพทอนที่อาจเป็นสายอักขระก็ได้ | exec('2*3') ได้ค่า 6  \n",
    "filter(fun, itobj)   | ประยุกต์ฟังก์ชัน fun ในแต่ละวัตถุใน itobj ส่งเฉพาะค่าของฟังก์ชันที่เป็นจริงเท่านั้น | filter(lambda x:x%2==1, [1, 2, 3, 4, 5]) ส่งค่า [1, 3, 5]  \n",
    "float(x)             | เปลี่ยนค่า x ให้เป็นจำนวนจริง | float('4.5') ได้ค่าเป็น 4.5  \n",
    "format(value, pat)   | ส่งค่า value ตามรูปแบบที่กำหนดใน pat | format(1, '%f4.2') ได้ผลลัพธ์เป็น 1.00  \n",
    "frozenset(itobj)     | แปลง itobj ให้เป็น frozen set | frozenset([1, 2]) ได้เป็น frozenset({1,2})  \n",
    "getattr(obj, name)   | ส่งค่าแอดทริบิวต์ name ของวัตถุ obj ออกมา | getattr(x)\n",
    "globals()            | ส่งชื่อวัตถุทั้งหมดที่อยู่ในสภาพแวดล้อมไพทอนออกมา  | globals()\n",
    "hasattr(obj, name)   | ตรวจสอบว่าแอดทริบิวต์ name ปรากฎในวัตถุ obj หรือไม่ | hasattr(x, 'value')\n",
    "hash(obj)            | ส่งค่าแฮชของวัตถุออกมา ค่าที่ได้คือจำนวนเต็มเหมาะสำหรับเปรียบเทียบว่าตัวแปรโปรแกรมชี้ไปที่ตำแหน่งเดียวกันหรือไม่   |  hash(x)\n",
    "help(obj)            | แสดงข้อความช่วยเหลือที่เขียนไว้ในวัตถุ  | help(x)\n",
    "id(obj)              | ส่งค่าจำนวนเต็มแทนวัตถุ obj ที่รับประกันว่าจะไม่ซ้ำกับวัตถุอื่น | id(x)\n",
    "input([prompt])      | รับค่าจากผู้ประมวลผลโปรแกรมส่งกลับมา โดยแสดงตัวอักขระ prompt เพื่อรอรับค่า | input('--> ')\n",
    "int(x)               | ส่งค่าจำนวนเต็มของจำนวน x หรือสายอักขระ x | int(2.0) ได้ค่าเป็นจำนวนเต็ม 2\n",
    "isinstance(obj, class) | ทดสอบว่าวัตถุ obj อยู่ในคลาส class หรือไม่   | isinstance(x, pop)\n",
    "issubclass(class, classinfo) | ทดสอบว่าวัตถุ class เป็นคลาสที่ได้มาจาก classinfo หรือไม่    |  issubclass(pop, human)\n",
    "iter(obj)            | ส่งวัตถุที่สร้างลำดับ (iterator)   | iter(partial(f.read, 64), b'')\n",
    "len(x)               | ส่งค่าจำนวนของ x | len('krung') ได้ค่าเป็น 5\n",
    "locals()             | แสดงชื่อวัตถุทั้งหมดที่อยู่ในสภาพแวดล้อมปัจจุบัน | locals()\n",
    "map(func, itobj)     | ส่งค่าทีละสมาชิกจาก itobj ที่ผ่านฟังก์ชัน func | map(lambda x:x**2, [1, 2, 4]) ได้ผลลัพธ์เป็น [1, 4, 16]\n",
    "max(itobj)           | ให้ค่าสูงสุดจาก itobj | max([3, 1, -1]) ได้ค่า 3\n",
    "memoryview(obj)      | แสดงค่าหน่วยความจำของวัตถุ obj | memoryview(x)\n",
    "min(itobj)           | ให้ค่าต่ำสุดจาก itobj | min([3, 1, -1]) ได้ค่า -1\n",
    "next(itobj)          | ส่งค่าสมาชิกถัดไปจาก itobj | next(x)\n",
    "object               | ส่งค่าวัตถุเปล่า  |  object\n",
    "oct(x)               | แปลงจำนวนให้เป็นเลขฐานแปดที่ขึ้นด้วย \"0o\" | oct(9) คือ '0o11'\n",
    "open(file, mode)     | เปิดไฟล์ชื่อ file ตาม mode ค่าที่ส่งกลับมาคือ file descriptor | open('studentid.txt', 'r') เปิดไฟล์ 'studentid.txt' แบบอ่าน\n",
    "ord(c)               | ส่งค่าจำนวนเต็มที่แทน unicode c | ord('a') ได้ค่า 97\n",
    "pow(x, y)            | ส่งค่าเลขยกกำลังของ $x^y$ | pow(2, 3) --> 8  \n",
    "print(obj)           | แสดงค่าวัตถุ obj บน text stream | print('3') --> 3\n",
    "property(x)          | ส่งค่า property ที่พบของ x | property(2)\n",
    "range(x, y)          | สร้างลำดับจาก x ไปถึง y-1 | range(1, 4) --> 1, 2, 3\n",
    "repr(obj)            | ส่งสายอักขระที่แทน obj | repr(2) --> '2'\n",
    "reversed(seq)        | ส่งค่าลำดับที่สลับจาก seq | reversed([1, 2, 3]) --> [3, 2, 1]  \n",
    "round(x)             | ส่งค่าจำนวนเต็มที่ปัดของจำนวน x | round(2.1) --> 2\n",
    "set([iterable])      | สร้างเซตจาก iterable | set([1, 2, 1]) --> {1, 2}\n",
    "setattr(obj, name,value) | กำหนดค่าให้กับ name ด้วย value ของวัตถุ obj | setattr(x, 'foobar', 123)\n",
    "slice(x, y)          | ส่งค่า slice ของวัตถุจาก x ไป y-1\n",
    "sorted(iterable)     | ส่งลัำดับที่เรียงของ iterable | sorted([4, 2, 1, 3]) --> [1, 2, 3, 4]\n",
    "@staticmethod        | แจ้งการเปลี่ยนฟังก์ชันที่เขียนในวัตถุให้เป็น static | @staticmethod\n",
    "str(obj)             | ส่งสายอักขระของ obj | str(1) --> '1'\n",
    "sum(iterable)        | ส่งค่าผลรวมจาก iterable | sum([1,2,3]) --> 6\n",
    "super()              | ใช้กับวัตถุเพื่อส่งค่า parent ของวัตถุออกมา | super()\n",
    "tuple([iterable])    | สร้าง tuple จาก iterable | tuple([1,2]) --> (1, 2)\n",
    "type(obj)      | แสดงชนิดของวัตถุ obj | type(1') ได้เป็น <class 'int'>\n",
    "vars()               | แสดงชื่อของทุกวัตถุที่มี attribute เป็น __dict__ | vars()\n",
    "zip(iterable)        | วนซ้ำใน iterable แบบขนานและสร้างทูเปิลของแต่ละสมาชิก | zip([1, 2], ['A', 'B']) สร้าง [(1, 'A'), (2, 'B')]"
   ]
  },
  {
   "cell_type": "code",
   "execution_count": 16,
   "id": "bab87da0",
   "metadata": {},
   "outputs": [
    {
     "name": "stdout",
     "output_type": "stream",
     "text": [
      "Help on module string:\n",
      "\n",
      "NAME\n",
      "    string - A collection of string constants.\n",
      "\n",
      "MODULE REFERENCE\n",
      "    https://docs.python.org/3.10/library/string.html\n",
      "    \n",
      "    The following documentation is automatically generated from the Python\n",
      "    source files.  It may be incomplete, incorrect or include features that\n",
      "    are considered implementation detail and may vary between Python\n",
      "    implementations.  When in doubt, consult the module reference at the\n",
      "    location listed above.\n",
      "\n",
      "DESCRIPTION\n",
      "    Public module variables:\n",
      "    \n",
      "    whitespace -- a string containing all ASCII whitespace\n",
      "    ascii_lowercase -- a string containing all ASCII lowercase letters\n",
      "    ascii_uppercase -- a string containing all ASCII uppercase letters\n",
      "    ascii_letters -- a string containing all ASCII letters\n",
      "    digits -- a string containing all ASCII decimal digits\n",
      "    hexdigits -- a string containing all ASCII hexadecimal digits\n",
      "    octdigits -- a string containing all ASCII octal digits\n",
      "    punctuation -- a string containing all ASCII punctuation characters\n",
      "    printable -- a string containing all ASCII characters considered printable\n",
      "\n",
      "CLASSES\n",
      "    builtins.object\n",
      "        Formatter\n",
      "        Template\n",
      "    \n",
      "    class Formatter(builtins.object)\n",
      "     |  Methods defined here:\n",
      "     |  \n",
      "     |  check_unused_args(self, used_args, args, kwargs)\n",
      "     |  \n",
      "     |  convert_field(self, value, conversion)\n",
      "     |  \n",
      "     |  format(self, format_string, /, *args, **kwargs)\n",
      "     |  \n",
      "     |  format_field(self, value, format_spec)\n",
      "     |  \n",
      "     |  get_field(self, field_name, args, kwargs)\n",
      "     |      # given a field_name, find the object it references.\n",
      "     |      #  field_name:   the field being looked up, e.g. \"0.name\"\n",
      "     |      #                 or \"lookup[3]\"\n",
      "     |      #  used_args:    a set of which args have been used\n",
      "     |      #  args, kwargs: as passed in to vformat\n",
      "     |  \n",
      "     |  get_value(self, key, args, kwargs)\n",
      "     |  \n",
      "     |  parse(self, format_string)\n",
      "     |      # returns an iterable that contains tuples of the form:\n",
      "     |      # (literal_text, field_name, format_spec, conversion)\n",
      "     |      # literal_text can be zero length\n",
      "     |      # field_name can be None, in which case there's no\n",
      "     |      #  object to format and output\n",
      "     |      # if field_name is not None, it is looked up, formatted\n",
      "     |      #  with format_spec and conversion and then used\n",
      "     |  \n",
      "     |  vformat(self, format_string, args, kwargs)\n",
      "     |  \n",
      "     |  ----------------------------------------------------------------------\n",
      "     |  Data descriptors defined here:\n",
      "     |  \n",
      "     |  __dict__\n",
      "     |      dictionary for instance variables (if defined)\n",
      "     |  \n",
      "     |  __weakref__\n",
      "     |      list of weak references to the object (if defined)\n",
      "    \n",
      "    class Template(builtins.object)\n",
      "     |  Template(template)\n",
      "     |  \n",
      "     |  A string class for supporting $-substitutions.\n",
      "     |  \n",
      "     |  Methods defined here:\n",
      "     |  \n",
      "     |  __init__(self, template)\n",
      "     |      Initialize self.  See help(type(self)) for accurate signature.\n",
      "     |  \n",
      "     |  safe_substitute(self, mapping={}, /, **kws)\n",
      "     |  \n",
      "     |  substitute(self, mapping={}, /, **kws)\n",
      "     |  \n",
      "     |  ----------------------------------------------------------------------\n",
      "     |  Class methods defined here:\n",
      "     |  \n",
      "     |  __init_subclass__() from builtins.type\n",
      "     |      This method is called when a class is subclassed.\n",
      "     |      \n",
      "     |      The default implementation does nothing. It may be\n",
      "     |      overridden to extend subclasses.\n",
      "     |  \n",
      "     |  ----------------------------------------------------------------------\n",
      "     |  Data descriptors defined here:\n",
      "     |  \n",
      "     |  __dict__\n",
      "     |      dictionary for instance variables (if defined)\n",
      "     |  \n",
      "     |  __weakref__\n",
      "     |      list of weak references to the object (if defined)\n",
      "     |  \n",
      "     |  ----------------------------------------------------------------------\n",
      "     |  Data and other attributes defined here:\n",
      "     |  \n",
      "     |  braceidpattern = None\n",
      "     |  \n",
      "     |  delimiter = '$'\n",
      "     |  \n",
      "     |  flags = re.IGNORECASE\n",
      "     |  \n",
      "     |  idpattern = '(?a:[_a-z][_a-z0-9]*)'\n",
      "     |  \n",
      "     |  pattern = re.compile('\\n            \\\\$(?:\\n              ...identifie...\n",
      "\n",
      "FUNCTIONS\n",
      "    capwords(s, sep=None)\n",
      "        capwords(s [,sep]) -> string\n",
      "        \n",
      "        Split the argument into words using split, capitalize each\n",
      "        word using capitalize, and join the capitalized words using\n",
      "        join.  If the optional second argument sep is absent or None,\n",
      "        runs of whitespace characters are replaced by a single space\n",
      "        and leading and trailing whitespace are removed, otherwise\n",
      "        sep is used to split and join the words.\n",
      "\n",
      "DATA\n",
      "    __all__ = ['ascii_letters', 'ascii_lowercase', 'ascii_uppercase', 'cap...\n",
      "    ascii_letters = 'abcdefghijklmnopqrstuvwxyzABCDEFGHIJKLMNOPQRSTUVWXYZ'\n",
      "    ascii_lowercase = 'abcdefghijklmnopqrstuvwxyz'\n",
      "    ascii_uppercase = 'ABCDEFGHIJKLMNOPQRSTUVWXYZ'\n",
      "    digits = '0123456789'\n",
      "    hexdigits = '0123456789abcdefABCDEF'\n",
      "    octdigits = '01234567'\n",
      "    printable = '0123456789abcdefghijklmnopqrstuvwxyzABCDEFGHIJKLMNOPQRSTU...\n",
      "    punctuation = '!\"#$%&\\'()*+,-./:;<=>?@[\\\\]^_`{|}~'\n",
      "    whitespace = ' \\t\\n\\r\\x0b\\x0c'\n",
      "\n",
      "FILE\n",
      "    /usr/lib/python3.10/string.py\n",
      "\n",
      "\n"
     ]
    }
   ],
   "source": [
    "help('string')"
   ]
  },
  {
   "cell_type": "markdown",
   "id": "9e3ca0fb",
   "metadata": {},
   "source": [
    "### &#50;.4. ชนิดข้อมูลของภาษาไพทอน\n",
    "\n",
    "ภาษาไพทอนสนับสนุนการจัดการกับข้อมูลใน 7 คลาส\n",
    "\n",
    "![python datatype](https://upload.wikimedia.org/wikipedia/commons/1/10/Python_3._The_standard_type_hierarchy.png)\n",
    "\n",
    "1. None ไม่ทราบอยู่ใน **class NoneType** ที่มีการใช้สัญลักษณ์ None เหมาะสำหรับการบ่งบอกค่าที่หายไป  \n",
    "2. Numbers (จำนวน) แยกเป็น  \n",
    "   2.1. Integral ค่าที่เป็นจำนวนที่ไม่มีเศษมีสองคลาสคือ **class int** มีค่าเป็นจำนวนเต็ม กับ **class bool** มีค่าเป็นตรรกะ 0 คือเท็จและ 1 คือจริง  \n",
    "   2.2. Real (ค่าจำนวนจริง) อยู่ใน **class float**  \n",
    "   2.3. Complex (ค่าจำนวนเชิงซ้อน) อยู่ในคลาส **class complex** แยกเป็นส่วนจริง real กับส่วนจินตภาพ imag  \n",
    "3. Sequences (ลำดับ) แยกเป็น  \n",
    "   3.1. Immutable (ลำดับที่ไม่เปลี่ยนแปลง) มีสามคลาสคือ **class str** มีค่าเป็นสายอักขระ **class tuple** มีค่าเป็นทูเปิลหลายอันดับ **class bytes** มีค่าเป็นไบต์ ค่าเหล่านี้เมื่อสร้างขึ้นแล้วไม่สามารถเปลี่ยนแปลงได้ แต่สามารถลบแล้วสร้างใหม่  \n",
    "   3.2. Mutable (ลำดับที่เปลี่ยนได้) มีสองคลาสคือ **class list** มีค่าเป็นรายการของวัตถุที่ไม่จำเป็นต้องเป็นชนิดเดียวกัน กับ **class bytearray** มีค่าเป็นรายการของข้อมูลแถวลำดับที่จัดการแบบไบต์\n",
    "4. Set types (กลุ่มของสมาชิกที่ไม่ซ้ำซ้อนกัน) แยกเป็น  \n",
    "   4.1. Sets (เซต) อยู่ในคลาส **class set**  \n",
    "   4.2. Frozen sets (เซตที่ไม่เปลี่ยนแปลง) อยู่ในคลาส **class frozenset**  \n",
    "5. Mappings (การส่ง) จัดอยู่ใน **class dict** แสดงถึงข้อมูลที่มีคีย์หลักเป็นวัตถุ เชื่อมโยงกับค่าที่กำหนดให้  \n",
    "6. Callable (การเรียกฟังก์ชันในภาษาไพทอน) เป็นส่วนที่เกี่ยวข้องกับ Functions, Methods และ Classes\n",
    "7. Modulars (การเรียกฟังก์ชันจากภาษาอื่น)"
   ]
  },
  {
   "cell_type": "markdown",
   "id": "d31c20ff",
   "metadata": {},
   "source": [
    "**การเปลี่ยนเป็นจำนวน**\n",
    "\n",
    "ข้อมูลปกติจะถูกอ่านเข้ามาเป็นสายอักขระ ซึ่งการนำข้อมูลมาใช้งาน ผู้เขียนโปรแกรมต้องมีการแปลงข้อมูลให้อยู่ในรูปแบบที่เหมาะสม ตัวอย่างเช่น"
   ]
  },
  {
   "cell_type": "code",
   "execution_count": 17,
   "id": "1fbb6ce5",
   "metadata": {},
   "outputs": [
    {
     "name": "stdout",
     "output_type": "stream",
     "text": [
      "<class 'str'> 1.414\n",
      "<class 'float'> 1.414\n",
      "<class 'int'> 1\n"
     ]
    }
   ],
   "source": [
    "x = \"1.414\"\n",
    "print(type(x), x)        # แสดงชนิดของข้อมูล\n",
    "xnum = float(x)          # เปลี่ยนข้อมูลให้เป็นจำนวนจริง\n",
    "print(type(xnum), xnum)  # แสดงชนิดข้อมูลที่ถูกเปลี่ยนแล้ว\n",
    "xint = int(xnum)         # ในกรณีที่เปลี่ยนข้อมูลเป็นจำนวนเต็ม เลขหลังจุดทศนิยมจะถูกทิ้ง\n",
    "print(type(xint), xint)  # แสดงชนิดข้อมูลที่เปลี่ยนเป็นจำนวนเต็มแล้ว"
   ]
  },
  {
   "cell_type": "markdown",
   "id": "73e0a49b",
   "metadata": {},
   "source": [
    "**การเปลี่ยนข้อมูลเป็นสายอักขระในภาษาไพทอน**\n",
    "\n",
    "ผู้พัฒนาเปลี่ยนข้อมูลเป็นสายอักขระโดยใช้ฟังก์ชัน str()"
   ]
  },
  {
   "cell_type": "code",
   "execution_count": 18,
   "id": "2cd1b7b1",
   "metadata": {},
   "outputs": [
    {
     "name": "stdout",
     "output_type": "stream",
     "text": [
      "1 <class 'str'>\n",
      "1.73200000000000 <class 'str'>\n",
      "4.00000000000000 + 1.00000000000000*I <class 'str'>\n",
      "True <class 'str'>\n"
     ]
    }
   ],
   "source": [
    "a1 = str(1)\n",
    "a2 = str(1.732)\n",
    "a3 = str(4+1j)\n",
    "a4 = str(True)\n",
    "print(a1, type(a1))\n",
    "print(a2, type(a2))\n",
    "print(a3, type(a3))\n",
    "print(a4, type(a4))"
   ]
  },
  {
   "cell_type": "markdown",
   "id": "8c090a6c",
   "metadata": {},
   "source": [
    "### &#50;.5. ลำดับการประมวลผลโปรแกรม\n",
    "\n",
    "ปกติโปรแกรมที่เขียนมัไม่มีการประมวลผลทีละบรรทัดไล่จากบนลงล่างเสมอไป บางครั้งโปรแกรมอาจต้องมีการข้ามบางคำสั่งตามเงื่อนไขที่กำหนด หรือมีการวนซ้ำเพื่อประมวลผลคำสั่งที่เปลี่ยนค่าตัวแปรโปรแกรมระหว่างการทำงาน\n",
    "\n",
    "การควบคุมดังกล่าวถูกออกแบบไว้ในทุกภาษาการเขียนโปรแกรมเรียก คำสั่งควบคุม (Control construct) ในส่วนนี้ภาษาไพทอนสนับสนุนการควบคุมสามลักษณะคือ\n",
    "\n",
    "1. if-elif-else คำสั่งถ้า-แล้วถ้า-แล้วกรณีอื่น ๆ\n",
    "2. while คำสั่งวนซ้ำในขณะที่จริง\n",
    "3. for คำสั่งวนซ้ำตามแต่ละสมาชิก"
   ]
  },
  {
   "cell_type": "markdown",
   "id": "ddb033fe",
   "metadata": {},
   "source": [
    "รูปแบบของคำสั่ง if-elif-else\n",
    "\n",
    "<pre>\n",
    "if condition 1:\n",
    "   statement 1\n",
    "elif condition 2:\n",
    "   statement 2\n",
    "else:\n",
    "   statement 3\n",
    "</pre>\n",
    "\n",
    "คำสั่ง if-elif-else มีการเปรียบเทียบเงื่อนไข condition 1 ก่อน ถ้าเงื่อนไข condition 1 เป็นจริงจะประมวลผล statement 1 มิฉะนั้นจะเปรียบเทียบกับเงื่อนไข condition 2 ถ้าเงื่อนไข condition 2 เป็นจริงจะประมวลผล statement 2 มิฉะนั้น (เงื่อนไข condition 1 ไม่จริง และเงื่อนไข condition 2 ไม่จริง) จะประมวลผล statement 3"
   ]
  },
  {
   "cell_type": "code",
   "execution_count": 19,
   "id": "fa8d065c",
   "metadata": {},
   "outputs": [
    {
     "name": "stdout",
     "output_type": "stream",
     "text": [
      "0.400000000000000  is in (0, 1).\n"
     ]
    }
   ],
   "source": [
    "x = 0.4\n",
    "if x < 0:\n",
    "  print(x, ' is negative ')\n",
    "elif x > 1:\n",
    "  print(x, ' is larger than 1')\n",
    "else:\n",
    "  print(x, ' is in (0, 1).')"
   ]
  },
  {
   "cell_type": "markdown",
   "id": "d4af3f1c",
   "metadata": {},
   "source": [
    "**while คำสั่งวนซ้ำจนกว่าเงื่อนไขจะไม่จริง**\n",
    "\n",
    "รูปแบบของคำสั่ง while ใช้ในการวนซ้ำในขณะที่เงื่อนไขเป็นจริง\n",
    "\n",
    "<pre>\n",
    "while condition:\n",
    "   statement 1\n",
    "   statement 2\n",
    "   ...\n",
    "   statement n\n",
    "</pre>\n",
    "\n",
    "คำสั่ง while จะเกิดการวนซ้ำไม่รู้จบ ถ้าเงื่อนไข condition เป็นจริง และคำสั่ง statement 1, ..., statement n ไม่ส่งผลต่อการเปลี่ยนแปลงเงื่อนไข condition"
   ]
  },
  {
   "cell_type": "code",
   "execution_count": 20,
   "id": "f0a72331",
   "metadata": {},
   "outputs": [
    {
     "name": "stdout",
     "output_type": "stream",
     "text": [
      "The total number of counts from 1.. 5  is  5.00000000000000\n"
     ]
    }
   ],
   "source": [
    "sumValue, n, i = 0.0, 5, 1\n",
    "while i <= n:\n",
    "  sumValue += 1\n",
    "  i += 1\n",
    "print('The total number of counts from 1..', n, ' is ', sumValue)"
   ]
  },
  {
   "cell_type": "markdown",
   "id": "b2ffbb96",
   "metadata": {},
   "source": [
    "**ข้อสังเกต**\n",
    "1. เงื่อนไข condition ต้องส่งค่าออกมาเป็นจริงหรือเท็จ ซึ่งมักจะสัมพันกับตัวแปรโปรแกรม ที่ต้องมีการเปลี่ยนแปลงค่าในการวนซ้ำแต่ละรอบ\n",
    "2. คำสั่งภายใน while จะทำซ้ำจนกระทั่งเงื่อนไขไม่จริง\n",
    "3. คำสั่งภายใน while ต้องมีบางคำสั่งเปลี่ยนค่าของตัวแปรโปรแกรมที่ปรากฎใน condition มิฉะนั้นการวนซ้ำจะวนแบบไม่รู้จบ\n",
    "4. คำสั่ง += เป็นการรวมคำสั่งการบวก กับการกำหนดค่าในหนึ่งบรรทัด"
   ]
  },
  {
   "cell_type": "markdown",
   "id": "9b0e5d8c",
   "metadata": {},
   "source": [
    "**for คำสั่งประมวลทีละสมาชิกของลำดับ**\n",
    "\n",
    "รูปแบบของคำสั่ง for ใช้ในการประมวลผลทีละสมาชิกของลำดับ\n",
    "\n",
    "<pre>\n",
    "for varName in sequenceData:\n",
    "   statement 1\n",
    "   statement 2\n",
    "   ...\n",
    "   statement n\n",
    "</pre>\n",
    "\n",
    "คำสั่ง for จะมีการกำหนดให้ varName มีการกำหนดค่าตามสมาชิกทีละสมาชิกใน sequenceData ปกติ sequenceData จะเป็นตัวแปรโปรแกรมที่มีค่าเป็นลำดับ การวนซ้ำลักษณะนี้จะไม่เกิดการวนซ้ำแบบไม่รู้จบ เพราะตัวแปรโปรแกรมที่ใช้วนซ้ำต้องทราบสมาชิกก่อนการทำงาน\n",
    "\n",
    "ปกติ ผู้เขียนโปรแกรมมักมีการวนซ้ำสมาชิกจาก 1, ..., \\\\(n\\\\) ภาษาไพทอนจึงมีฟังก์ชันในการสร้างลำดับ 0,..., \\\\(n-1\\\\) คือ range(n) ซึ่งจะสร้างลำดับจาก 0, 1, 2, ..., n-1"
   ]
  },
  {
   "cell_type": "code",
   "execution_count": 21,
   "id": "3554e0ce",
   "metadata": {},
   "outputs": [
    {
     "name": "stdout",
     "output_type": "stream",
     "text": [
      "0\n",
      "1\n",
      "2\n",
      "3\n",
      "4\n"
     ]
    }
   ],
   "source": [
    "for i in range(5):\n",
    "    print(i)"
   ]
  },
  {
   "cell_type": "code",
   "execution_count": 22,
   "id": "6a5800f1",
   "metadata": {},
   "outputs": [
    {
     "name": "stdout",
     "output_type": "stream",
     "text": [
      "2 8\n",
      "5 125\n",
      "6 216\n",
      "7 343\n"
     ]
    }
   ],
   "source": [
    "for i in [2, 5, 6, 7]:\n",
    "    print(i, i**3)"
   ]
  },
  {
   "cell_type": "markdown",
   "id": "486a5f34",
   "metadata": {},
   "source": [
    "### &#50;.6. การนิยามฟังก์ชันในภาษาไพทอน\n",
    "\n",
    "ภาษาไพทอนมีฟังก์ชันภายในที่ใช้ปกติอยู่แล้ว เช่น print(), range(), int() สำหรับผู้พัฒนาโปรแกรมจะสามารถสร้างฟังก์ชันใหม่ใช้ โดยการผูกนิยามฟังก์ชันกับชื่อ\n",
    "การใช้ฟังก์ชันเปรียบเสมือนกับการนำรหัสของฟังก์ชันใส่ทดแทนตำแหน่งที่เรียกใช้ฟังก์ชันพร้อมกับอาร์กิวเมนต์ที่กำหนด\n",
    "\n",
    "<pre>\n",
    "def square(x):\n",
    "   '''square(x) ส่งค่ากำลังสองของค่าจำนวน x\n",
    "   '''\n",
    "   result = x**2\n",
    "   return result\n",
    "</pre>\n",
    "\n",
    "1. **def** เป็นคำสงวนสำหรับการสร้างฟังก์ชัน\n",
    "2. _square_ แทนชื่อของฟังก์ชันที่สามารถอ้างถึงได้ในอนาคต\n",
    "3. (x) แทนอาร์กิวเมนต์ของฟังก์ชันที่มีเพียงหนึ่งวัตถุ\n",
    "4. '''  ... ''' แทนการใส่ข้อความอธิบายฟังก์ชันที่จะปรากฎเมื่อมีการเรียกผ่าน help(square)\n",
    "5. **return** เป็นคำสงวนสำหรับการส่งค่าฟังก์ชันกลับ คำสั่งดังกล่าวจะทำให้ฟังก์ชันหยุดการทำงานที่ตำแหน่งดังกล่าว"
   ]
  },
  {
   "cell_type": "code",
   "execution_count": 23,
   "id": "8e2c5a4f",
   "metadata": {},
   "outputs": [
    {
     "data": {
      "text/plain": [
       "25"
      ]
     },
     "execution_count": 23,
     "metadata": {},
     "output_type": "execute_result"
    }
   ],
   "source": [
    "def square(x):\n",
    "    '''square(x) ส่งค่ากำลังสองของค่า x\n",
    "    '''\n",
    "    result = x**2\n",
    "    return result\n",
    "square(5)"
   ]
  },
  {
   "cell_type": "markdown",
   "id": "497d920f",
   "metadata": {},
   "source": [
    "**ข้อสังเกต**\n",
    "\n",
    "1. ฟังก์ชันที่นิยามโดยผู้ใช้ เริ่มต้นด้วยคำสงวน def และลงท้ายบรรทัดด้วยโคลอน\n",
    "2. ชื่อของฟังก์ชันตามหลังช่องว่าง def และต้องมีวงเล็บ\n",
    "3. ชื่อตัวแปรโปรแกรมที่อยู่ภายในวงเล็บคืออาร์กิวเมนต์ของฟังก์ชัน ผู้พัฒนาโปรแกรมสามารถใช้เครื่องหมาย = เพื่อกำหนดค่าโดยปริยายของตัวแปรโปรแกรมในกรณีที่ไม่มีการกำหนดค่าให้\n",
    "4. สัญลักษณ์ ''' ... ''' เป็นส่วนของสายอักขระที่จะแสดงเมื่อผู้ใช้เรียก help() กับฟังก์ชันดังกล่าว เรียก docstring\n",
    "5. คำสงวน return ใช้หยุดการประมวลผลฟังก์ชัน พร้อมส่งค่าที่คำนวณได้กลับ"
   ]
  },
  {
   "cell_type": "markdown",
   "id": "0084b38a",
   "metadata": {},
   "source": [
    "### &#50;.7. ฟังก์ชันไม่มีชื่อในภาษาไพทอน\n",
    "\n",
    "ในบางครั้ง ผู้พัฒนาอยากสร้างฟังก์ชันที่ไม่มีชื่อเพื่อส่งไปประมวลผลกับสมาชิกในแต่ละตัวของข้อมูลลำดับ\n",
    "\n",
    "<pre>\n",
    "lambda x: expression\n",
    "</pre>\n",
    "ข้างต้นเป็นการสร้างฟังก์ชันไม่มีชื่อ (Anonymous function) ที่ส่งค่าเป็นการคำนวณนิพจน์ expression"
   ]
  },
  {
   "cell_type": "code",
   "execution_count": 24,
   "id": "f4b05b1c",
   "metadata": {},
   "outputs": [
    {
     "data": {
      "text/plain": [
       "[4, 9, 16]"
      ]
     },
     "execution_count": 24,
     "metadata": {},
     "output_type": "execute_result"
    }
   ],
   "source": [
    "list(map(lambda x:x**2, [2, 3, 4]))"
   ]
  },
  {
   "cell_type": "markdown",
   "id": "439258fe",
   "metadata": {},
   "source": [
    "### &#50;.8. ฟังก์ชันรีเคอร์ซีฟในภาษาไพทอน\n",
    "\n",
    "การคำนวณบางลักษณะสามารถทำได้โดยการเรียกใช้ฟังก์ชันที่สร้างซ้ำบนข้อมูลนำเข้าที่มีขนาดที่เล็กลง เช่น การคำนวณฟังก์ชันแฟคทอเรียล\n",
    "* นิยาม \\(n!\\) มีค่าเป็น 1 เมื่อ \\(n\\) = 0 หรือ \\(n\\) = 1 และ \\(n! = n*(n-1)!\\)\n",
    "* เขียนฟังก์ชัน \\(n!\\) ได้ดังนี้"
   ]
  },
  {
   "cell_type": "code",
   "execution_count": 25,
   "id": "957ef76b",
   "metadata": {},
   "outputs": [
    {
     "data": {
      "text/plain": [
       "24"
      ]
     },
     "execution_count": 25,
     "metadata": {},
     "output_type": "execute_result"
    }
   ],
   "source": [
    "def factorial(n):\n",
    "    if n <= 1:\n",
    "        return 1\n",
    "    return n*factorial(n-1)\n",
    "factorial(4)"
   ]
  },
  {
   "cell_type": "markdown",
   "id": "6c1c78f5",
   "metadata": {},
   "source": [
    "### &#50;.9. การเรียกใช้ไลบราลี\n",
    "การเขียนฟังก์ชันในการประมวลผลจะช่วยลดจำนวนบรรทัดในการพัฒนาโปรแกรมได้ ฟังก์ชันหลากหลายรูปแบบถูกพัฒนาและเขียนขึ้นเพื่อให้การเขียนโปรแกรมสะดวกขึ้น วิธีการคือการรวมฟังก์ชันที่สำคัญเก็บไว้ในไลบราลีที่สร้างไล้\n",
    "\n",
    "ผู้เขียนโปรแกรมสามารถติดตั้งโมดูลที่ยังไม่มีในภาษาไพทอน ผ่าน !pip install"
   ]
  },
  {
   "cell_type": "code",
   "execution_count": 26,
   "id": "2079081f",
   "metadata": {},
   "outputs": [
    {
     "name": "stdout",
     "output_type": "stream",
     "text": [
      "Defaulting to user installation because normal site-packages is not writeable\n",
      "Collecting pyomo\n",
      "  Downloading Pyomo-6.8.2-cp310-cp310-manylinux_2_17_x86_64.manylinux2014_x86_64.whl (13.4 MB)\n",
      "\u001b[2K     \u001b[90m━━━━━━━━━━━━━━━━━━━━━━━━━━━━━━━━━━━━━━━━\u001b[0m \u001b[32m13.4/13.4 MB\u001b[0m \u001b[31m3.1 MB/s\u001b[0m eta \u001b[36m0:00:00\u001b[0m00:01\u001b[0m00:01\u001b[0m\n",
      "\u001b[?25hRequirement already satisfied: ply in /usr/lib/python3/dist-packages (from pyomo) (3.11)\n",
      "Installing collected packages: pyomo\n",
      "\u001b[33m  WARNING: The script pyomo is installed in '/home/sage/.sage/local/bin' which is not on PATH.\n",
      "  Consider adding this directory to PATH or, if you prefer to suppress this warning, use --no-warn-script-location.\u001b[0m\u001b[33m\n",
      "\u001b[0mSuccessfully installed pyomo-6.8.2\n"
     ]
    }
   ],
   "source": [
    "!pip install pyomo"
   ]
  },
  {
   "cell_type": "markdown",
   "id": "f41bd852",
   "metadata": {},
   "source": [
    "**ข้อสังเกต**\n",
    "1. สัญลักษณ์ ! ตัวแรกในเซลคือคำสั่งในการเรียก shell ของระบบปฏิบัติการที่ jupyter notebook ทำงานอยู่\n",
    "2. **pip** เป็นคำสั่งในระบบปฏิบัติการเพื่อติดตั้งชื่อ package ที่ส่งมาให้ ย่อมาจาก Python install package\n",
    "3. **install** เป็นอาร์กิวเมนต์ของคำสั่ง pip เพื่อติดตั้ง package"
   ]
  },
  {
   "cell_type": "code",
   "execution_count": 27,
   "id": "a5a6ac6f",
   "metadata": {},
   "outputs": [],
   "source": [
    "import csv\n",
    "import json\n",
    "import pandas as pd\n",
    "import numpy as np\n",
    "import matplotlib.pyplot as plt"
   ]
  },
  {
   "cell_type": "markdown",
   "id": "fb6ea2d1",
   "metadata": {},
   "source": [
    "### &#50;.10. การอ่านและเขียนไฟล์\n",
    "\n",
    "ที่ผ่านมา โปรแกรมภาษาไพทอนที่เขียนมีการใช้ข้อมูลที่พิมพ์ในรหัสโปรแกรมโดยตรง อย่างไรก็ดีวิธีการดังกล่าวไม่เหมาะกับการพัฒนาโปรแกรมขนาดใหญ่ ซึ่งข้อมูลนำเข้ามีการส่งผ่านไฟล์\n",
    "\n",
    "ผู้พัฒนาโปรแกรมจำเป็นต้องมีวิธีการอ่านและเขียนไฟล์เพื่อประมวลผลกับข้อมูลปริมาณมาก ในส่วนนี้ ผู้พัฒนาจะเรียนรู้\n",
    "1. วิธีการอ่านไฟล์ csv ผ่านโปรแกรมภาษาไพทอน\n",
    "2. วิธีการอ่านไฟล์ทีละบรรทัด\n",
    "\n",
    "การเปิดไฟล์สำหรับเขียนในภาษาไพทอนใช้ฟังก์ชัน open(filename, 'w') โดยผลลัพธ์ของการเปิดไฟล์สำเร็จจะได้ file handle ที่เชื่อมกับไฟล์ดังกล่าว ที่บันทึกในตัวแปรโปรแกรม การอ้างถึงใช้ file handle ดังกล่าวพร้อมคำสั่ง write() และจบท้ายด้วยการปิดไฟล์"
   ]
  },
  {
   "cell_type": "code",
   "execution_count": 28,
   "id": "775dc86e",
   "metadata": {},
   "outputs": [],
   "source": [
    "# Grade data\n",
    "data = '''No,Name,Surname,Midterm,Final\n",
    "1,Dang,Suadee,36,34\n",
    "2,Dam,Rukthawee,42,41\n",
    "3,Wipada,Kaewkhan,25,31\n",
    "4,Phitak,Rungruang,42,44\n",
    "'''\n",
    "\n",
    "filename = 'GradeClass1.csv'\n",
    "fin = open(filename, 'w')\n",
    "fin.write(data)\n",
    "fin.close()"
   ]
  },
  {
   "cell_type": "code",
   "execution_count": 29,
   "id": "456e61ca",
   "metadata": {},
   "outputs": [
    {
     "name": "stdout",
     "output_type": "stream",
     "text": [
      "No,Name,Surname,Midterm,Final\r\n",
      "1,Dang,Suadee,36,34\r\n",
      "2,Dam,Rukthawee,42,41\r\n",
      "3,Wipada,Kaewkhan,25,31\r\n",
      "4,Phitak,Rungruang,42,44\r\n"
     ]
    }
   ],
   "source": [
    "!cat GradeClass1.csv"
   ]
  },
  {
   "cell_type": "markdown",
   "id": "221bb848",
   "metadata": {},
   "source": [
    "**การอ่านข้อมูลในไฟล์ csv**\n",
    "\n",
    "ผู้พัฒนาโปรแกรมสามารถอ่านข้อมูลที่บันทึกในชื่อไฟล์ผ่าน open()"
   ]
  },
  {
   "cell_type": "code",
   "execution_count": 30,
   "id": "a877ffc2",
   "metadata": {},
   "outputs": [
    {
     "name": "stdout",
     "output_type": "stream",
     "text": [
      "No,Name,Surname,Midterm,Final\n",
      "1,Dang,Suadee,36,34\n",
      "2,Dam,Rukthawee,42,41\n",
      "3,Wipada,Kaewkhan,25,31\n",
      "4,Phitak,Rungruang,42,44\n",
      "We are done with open file.\n"
     ]
    }
   ],
   "source": [
    "with open(filename) as f:\n",
    "    for line in f:\n",
    "        print(line.rstrip())\n",
    "    print(\"We are done with open file.\")"
   ]
  },
  {
   "cell_type": "markdown",
   "id": "2249bba7",
   "metadata": {},
   "source": [
    "**การอ่าน csv ผ่านโมดูล pandas**\n",
    "\n",
    "การอ่าน csv ไฟล์เป็นงานที่มักทำบ่อยของนักวิเคราะห์ข้อมูล โมดูลใน pandas จึงสนับสนุนการอ่านและการแปลงไฟล์ csv แบบอัตโนมัติ"
   ]
  },
  {
   "cell_type": "code",
   "execution_count": 31,
   "id": "b31ff832",
   "metadata": {},
   "outputs": [
    {
     "data": {
      "text/html": [
       "<div>\n",
       "<style scoped>\n",
       "    .dataframe tbody tr th:only-of-type {\n",
       "        vertical-align: middle;\n",
       "    }\n",
       "\n",
       "    .dataframe tbody tr th {\n",
       "        vertical-align: top;\n",
       "    }\n",
       "\n",
       "    .dataframe thead th {\n",
       "        text-align: right;\n",
       "    }\n",
       "</style>\n",
       "<table border=\"1\" class=\"dataframe\">\n",
       "  <thead>\n",
       "    <tr style=\"text-align: right;\">\n",
       "      <th></th>\n",
       "      <th>No</th>\n",
       "      <th>Name</th>\n",
       "      <th>Surname</th>\n",
       "      <th>Midterm</th>\n",
       "      <th>Final</th>\n",
       "    </tr>\n",
       "  </thead>\n",
       "  <tbody>\n",
       "    <tr>\n",
       "      <th>0</th>\n",
       "      <td>1</td>\n",
       "      <td>Dang</td>\n",
       "      <td>Suadee</td>\n",
       "      <td>36</td>\n",
       "      <td>34</td>\n",
       "    </tr>\n",
       "    <tr>\n",
       "      <th>1</th>\n",
       "      <td>2</td>\n",
       "      <td>Dam</td>\n",
       "      <td>Rukthawee</td>\n",
       "      <td>42</td>\n",
       "      <td>41</td>\n",
       "    </tr>\n",
       "    <tr>\n",
       "      <th>2</th>\n",
       "      <td>3</td>\n",
       "      <td>Wipada</td>\n",
       "      <td>Kaewkhan</td>\n",
       "      <td>25</td>\n",
       "      <td>31</td>\n",
       "    </tr>\n",
       "    <tr>\n",
       "      <th>3</th>\n",
       "      <td>4</td>\n",
       "      <td>Phitak</td>\n",
       "      <td>Rungruang</td>\n",
       "      <td>42</td>\n",
       "      <td>44</td>\n",
       "    </tr>\n",
       "  </tbody>\n",
       "</table>\n",
       "</div>"
      ],
      "text/plain": [
       "   No    Name    Surname  Midterm  Final\n",
       "0   1    Dang     Suadee       36     34\n",
       "1   2     Dam  Rukthawee       42     41\n",
       "2   3  Wipada   Kaewkhan       25     31\n",
       "3   4  Phitak  Rungruang       42     44"
      ]
     },
     "execution_count": 31,
     "metadata": {},
     "output_type": "execute_result"
    }
   ],
   "source": [
    "import pandas as pd\n",
    "dataframe = pd.read_csv(filename); dataframe"
   ]
  },
  {
   "cell_type": "code",
   "execution_count": 32,
   "id": "a7e0adf7",
   "metadata": {},
   "outputs": [
    {
     "data": {
      "text/plain": [
       "Midterm    36.25\n",
       "Final      37.50\n",
       "dtype: float64"
      ]
     },
     "execution_count": 32,
     "metadata": {},
     "output_type": "execute_result"
    }
   ],
   "source": [
    "dataframe[[\"Midterm\", \"Final\"]].mean()"
   ]
  },
  {
   "cell_type": "markdown",
   "id": "d0434656",
   "metadata": {},
   "source": [
    "**ข้อสังเกต**\n",
    "1. การใช้ dataframe อ้างถึงคอลัมภ์ด้วยชื่อ\n",
    "2. ผู้เขียนสามารถเรียกคำนวณหลายคอลัมภ์พร้อมกันโดยการส่งรายการของชื่อคอลัมภ์"
   ]
  },
  {
   "cell_type": "markdown",
   "id": "934470e5",
   "metadata": {},
   "source": [
    "### &#50;.11. การเรียกโปรแกรมภาษาไพทอนที่พัฒนาเสร็จแล้ว\n",
    "\n",
    "โปรแกรมในภาษาไพทอนคือ ชุดของคำสั่งที่เขียนอยู่ในไฟล์เดียวกัน *.py  \n",
    "ผู้ใช้สามารถนำฟังก์ชัน หรือการประมวลผลที่เขียนไว้มาใช้ใหม่ได้ด้วยคำสั่ง import filename  \n",
    "เมื่อ คำสั่งทั้งหมดปรากฎอยู่ใน filename.py"
   ]
  },
  {
   "cell_type": "code",
   "execution_count": 33,
   "id": "fffbbdd9",
   "metadata": {},
   "outputs": [],
   "source": [
    "# สร้างชุดคำสั่ง เขียนใน myprog1.py\n",
    "instructions = \"\"\"\n",
    "total = 0\n",
    "for v in range(1, 102):\n",
    "  if v%2 == 1:\n",
    "    total += v\n",
    "print(total)\"\"\"\n",
    "fout = open(\"myprog1.py\", \"w\")\n",
    "fout.write(instructions)\n",
    "fout.close()"
   ]
  },
  {
   "cell_type": "code",
   "execution_count": 34,
   "id": "cf065030",
   "metadata": {},
   "outputs": [
    {
     "name": "stdout",
     "output_type": "stream",
     "text": [
      "\r\n",
      "total = 0\r\n",
      "for v in range(1, 102):\r\n",
      "  if v%2 == 1:\r\n",
      "    total += v\r\n",
      "print(total)"
     ]
    }
   ],
   "source": [
    "!cat myprog1.py"
   ]
  },
  {
   "cell_type": "code",
   "execution_count": 35,
   "id": "8fcad8a1",
   "metadata": {},
   "outputs": [
    {
     "name": "stdout",
     "output_type": "stream",
     "text": [
      "2601\n"
     ]
    },
    {
     "data": {
      "text/plain": [
       "2601"
      ]
     },
     "execution_count": 35,
     "metadata": {},
     "output_type": "execute_result"
    }
   ],
   "source": [
    "# ผู้พัฒนาโปรแกรมเรียกผ่าน import\n",
    "import myprog1\n",
    "myprog1.total"
   ]
  },
  {
   "cell_type": "markdown",
   "id": "40e80a2c",
   "metadata": {},
   "source": [
    "### &#50;.12. การใช้ List comprehension\n",
    "ภาษาไพทอนมี primitive data type หลากหลายชนิดที่มีสมาชิกมากกว่าหนึ่งตัว ได้แก่\n",
    "* ลำดับ (Sequence) แยกได้เป็น  \n",
    "  -- Immutable ได้แก่ String, Tuple, Byte  \n",
    "  -- Mutable ได้แก่ List, Byte array  \n",
    "* เซต (Set) ได้แก่ Set, Frozen set\n",
    "* การส่ง (Mapping) ได้แก่ Dictionary\n",
    "ดังนั้นในภาษาไพทอนจึงต้องมีคำสั่งสนับสนุนการอ้างถึงสมาชิกในแต่ละตัว กับโครงสร้างข้อมูล primitive เหล่านี้"
   ]
  },
  {
   "cell_type": "code",
   "execution_count": 36,
   "id": "65b886f0",
   "metadata": {},
   "outputs": [
    {
     "name": "stdout",
     "output_type": "stream",
     "text": [
      "S\n",
      "Sinapiromsaran\n"
     ]
    }
   ],
   "source": [
    "name = 'Krung Sinapiromsaran'\n",
    "print(name[6])\n",
    "print(name[6:])"
   ]
  },
  {
   "cell_type": "code",
   "execution_count": 37,
   "id": "715f2a11",
   "metadata": {},
   "outputs": [
    {
     "data": {
      "text/plain": [
       "['K',\n",
       " 'r',\n",
       " 'u',\n",
       " 'n',\n",
       " 'g',\n",
       " ' ',\n",
       " 'S',\n",
       " 'i',\n",
       " 'n',\n",
       " 'a',\n",
       " 'p',\n",
       " 'i',\n",
       " 'r',\n",
       " 'o',\n",
       " 'm',\n",
       " 's',\n",
       " 'a',\n",
       " 'r',\n",
       " 'a',\n",
       " 'n']"
      ]
     },
     "execution_count": 37,
     "metadata": {},
     "output_type": "execute_result"
    }
   ],
   "source": [
    "[name[i] for i in range(len(name))] # ได้รายการของตัวอักขระทุกตัวใน x"
   ]
  },
  {
   "cell_type": "code",
   "execution_count": 38,
   "id": "428702f3",
   "metadata": {},
   "outputs": [
    {
     "data": {
      "text/plain": [
       "[1, 2, 3]"
      ]
     },
     "execution_count": 38,
     "metadata": {},
     "output_type": "execute_result"
    }
   ],
   "source": [
    "L = [1, 0, -1, 2, 3, -4]\n",
    "[v for v in L if v > 0]"
   ]
  },
  {
   "cell_type": "code",
   "execution_count": 39,
   "id": "215e420c",
   "metadata": {},
   "outputs": [
    {
     "data": {
      "text/plain": [
       "(1, -4, 3)"
      ]
     },
     "execution_count": 39,
     "metadata": {},
     "output_type": "execute_result"
    }
   ],
   "source": [
    "sum(L), min(L), max(L)"
   ]
  },
  {
   "cell_type": "code",
   "execution_count": 40,
   "id": "4348369a",
   "metadata": {},
   "outputs": [
    {
     "data": {
      "text/plain": [
       "(5, -4)"
      ]
     },
     "execution_count": 40,
     "metadata": {},
     "output_type": "execute_result"
    }
   ],
   "source": [
    "p = [1, 0, -1, 2, 3, -4]\n",
    "min(enumerate(p), key=lambda x:x[1])"
   ]
  },
  {
   "cell_type": "code",
   "execution_count": 41,
   "id": "b31b6bef",
   "metadata": {},
   "outputs": [
    {
     "data": {
      "text/plain": [
       "{'KK': 0, 'KW': 0, 'TL': 0, 'LP': 0}"
      ]
     },
     "execution_count": 41,
     "metadata": {},
     "output_type": "execute_result"
    }
   ],
   "source": [
    "plant = ['KK', 'KW', 'TL', 'LP']\n",
    "x = {k:0 for k in plant}; x"
   ]
  },
  {
   "cell_type": "code",
   "execution_count": 42,
   "id": "45d9f901",
   "metadata": {},
   "outputs": [
    {
     "data": {
      "text/plain": [
       "{'KK': 0, 'KW': 0, 'TL': -1, 'LP': -1}"
      ]
     },
     "execution_count": 42,
     "metadata": {},
     "output_type": "execute_result"
    }
   ],
   "source": [
    "x = {k:0 if k[0] == 'K' else -1 for k in plant}; x"
   ]
  },
  {
   "cell_type": "code",
   "execution_count": null,
   "id": "8121751f",
   "metadata": {},
   "outputs": [],
   "source": []
  }
 ],
 "metadata": {
  "kernelspec": {
   "display_name": "SageMath 9.5",
   "language": "sage",
   "name": "sagemath"
  },
  "language_info": {
   "codemirror_mode": {
    "name": "ipython",
    "version": 3
   },
   "file_extension": ".py",
   "mimetype": "text/x-python",
   "name": "python",
   "nbconvert_exporter": "python",
   "pygments_lexer": "ipython3",
   "version": "3.10.12"
  }
 },
 "nbformat": 4,
 "nbformat_minor": 5
}
