{
 "cells": [
  {
   "cell_type": "markdown",
   "id": "b2698d0d",
   "metadata": {},
   "source": [
    "The displacement from equilibrium (respectively) for a coupled spring attached to a wall on the left\n",
    "\n",
    "\n",
    "``|------\\/\\/\\/\\/\\---|mass1|----\\/\\/\\/\\/\\/----|mass2|``   \n",
    "``         spring1               spring2             ``\n",
    "\n",
    "is modeled by the system of 2nd order differential equations\n",
    "\n",
    "$$\\begin{array}{r} m_1 x_1'' + (k_1 + k_2) x_1 - k_2 x_2 = 0, \\\\ m_2 x_2'' + k_2(x_2 - x_1) = 0,\\end{array}$$ \n",
    "\n",
    "where $m_i$ is the mass of object $i$, $x_i$ is the displacement from equilibrium of mass $i$, and $k_i$ is the spring constant for spring $i$."
   ]
  },
  {
   "cell_type": "markdown",
   "id": "b3562bfb",
   "metadata": {},
   "source": [
    "**Example:** Use Sage to solve the above problem with $m_1 = 2$, $m_2 = 1$, $k_1 = 4$, $k_2 = 2$, $x_1(0) = 3$, $x_1'(0) = 0$, $x_2(0) = 3$, $x_2'(0) = 0$."
   ]
  },
  {
   "cell_type": "code",
   "execution_count": 1,
   "id": "0a7680bd",
   "metadata": {},
   "outputs": [
    {
     "data": {
      "text/plain": [
       "2*s^2*laplace(x(t), t, s) - 2*s*x(0) + 6*laplace(x(t), t, s) - 2*laplace(y(t), t, s) - 2*D[0](x)(0)"
      ]
     },
     "execution_count": 1,
     "metadata": {},
     "output_type": "execute_result"
    }
   ],
   "source": [
    "t,s = SR.var('t,s')\n",
    "x = function('x')\n",
    "y = function('y')\n",
    "f = 2*x(t).diff(t,2) + 6*x(t) - 2*y(t)\n",
    "f.laplace(t,s)"
   ]
  },
  {
   "cell_type": "code",
   "execution_count": 3,
   "id": "b287e41b",
   "metadata": {},
   "outputs": [
    {
     "data": {
      "text/plain": [
       "<class 'sage.symbolic.ring.SymbolicRing'>"
      ]
     },
     "execution_count": 3,
     "metadata": {},
     "output_type": "execute_result"
    }
   ],
   "source": [
    "type(SR)"
   ]
  },
  {
   "cell_type": "markdown",
   "id": "c00846b7",
   "metadata": {},
   "source": [
    "This interprets as\n",
    "$$-2 x'(0) + 2 s^2. X(s) - 2 s x(0) - 2 Y(s) + 6 X(s) = 0$$\n",
    "\n",
    "(where the Laplace transform of a lower case function like $x(t)$ is the upper case function $X(s)$). Take the Laplace transform of the second equation:"
   ]
  },
  {
   "cell_type": "code",
   "execution_count": 4,
   "id": "b4968817",
   "metadata": {},
   "outputs": [
    {
     "data": {
      "text/plain": [
       "s^2*laplace(y(t), t, s) - s*y(0) - 2*laplace(x(t), t, s) + 2*laplace(y(t), t, s) - D[0](y)(0)"
      ]
     },
     "execution_count": 4,
     "metadata": {},
     "output_type": "execute_result"
    }
   ],
   "source": [
    "de2 = maxima(\"diff(y(t), t, 2) + 2*y(t) - 2*x(t)\")\n",
    "lde2 = de2.laplace(\"t\", \"s\"); lde2.sage()"
   ]
  },
  {
   "cell_type": "code",
   "execution_count": null,
   "id": "37c7e1d9",
   "metadata": {},
   "outputs": [],
   "source": []
  },
  {
   "cell_type": "code",
   "execution_count": null,
   "id": "66297bb5",
   "metadata": {},
   "outputs": [],
   "source": []
  },
  {
   "cell_type": "code",
   "execution_count": null,
   "id": "693ab391",
   "metadata": {},
   "outputs": [],
   "source": []
  },
  {
   "cell_type": "code",
   "execution_count": null,
   "id": "9c88f90e",
   "metadata": {},
   "outputs": [],
   "source": []
  }
 ],
 "metadata": {
  "kernelspec": {
   "display_name": "SageMath 9.5",
   "language": "sage",
   "name": "sagemath"
  },
  "language_info": {
   "codemirror_mode": {
    "name": "ipython",
    "version": 3
   },
   "file_extension": ".py",
   "mimetype": "text/x-python",
   "name": "python",
   "nbconvert_exporter": "python",
   "pygments_lexer": "ipython3",
   "version": "3.10.12"
  }
 },
 "nbformat": 4,
 "nbformat_minor": 5
}
