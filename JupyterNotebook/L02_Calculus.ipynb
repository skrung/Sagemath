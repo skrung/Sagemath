{
 "cells": [
  {
   "cell_type": "markdown",
   "id": "81135112",
   "metadata": {},
   "source": [
    "# แคลคูลัสในเซจ\n",
    "\n",
    "เรียบเรียงโดย รศ. ดร. กรุง สินอภิรมย์สราญ  \n",
    "ภาควิชาคณิตศาสตร์และวิทยาการคอมพิวเตอร์  \n",
    "คณะวิทยาศาสตร์ จุฬาลงกรณ์มหาวิทยาลัย  "
   ]
  },
  {
   "cell_type": "markdown",
   "id": "df09c790",
   "metadata": {},
   "source": [
    "## ลิมิต\n",
    "\n",
    "ผู้ใช้เรียกใช้ฟังก์ชัน limit() เพื่อคำนวณหาลิมิตของฟังก์ชัน"
   ]
  },
  {
   "cell_type": "code",
   "execution_count": 1,
   "id": "7b94608e",
   "metadata": {},
   "outputs": [
    {
     "data": {
      "text/plain": [
       "-3"
      ]
     },
     "execution_count": 1,
     "metadata": {},
     "output_type": "execute_result"
    }
   ],
   "source": [
    "limit((x^2+x-2)/(x+2), x=-2)"
   ]
  },
  {
   "cell_type": "code",
   "execution_count": 2,
   "id": "0b6e04b4",
   "metadata": {},
   "outputs": [
    {
     "data": {
      "text/plain": [
       "2"
      ]
     },
     "execution_count": 2,
     "metadata": {},
     "output_type": "execute_result"
    }
   ],
   "source": [
    "limit((4*sqrt(5-x)-8)/(sqrt(2-x)-1), x=1)"
   ]
  },
  {
   "cell_type": "code",
   "execution_count": 3,
   "id": "4537f61f",
   "metadata": {},
   "outputs": [
    {
     "data": {
      "text/plain": [
       "und"
      ]
     },
     "execution_count": 3,
     "metadata": {},
     "output_type": "execute_result"
    }
   ],
   "source": [
    "limit((x-2)/abs(x-2), x=2)"
   ]
  },
  {
   "cell_type": "code",
   "execution_count": 5,
   "id": "dbb1fce4",
   "metadata": {},
   "outputs": [
    {
     "data": {
      "text/plain": [
       "1"
      ]
     },
     "execution_count": 5,
     "metadata": {},
     "output_type": "execute_result"
    }
   ],
   "source": [
    "limit((x-2)/abs(x-2), x=2, dir='+')"
   ]
  },
  {
   "cell_type": "code",
   "execution_count": 6,
   "id": "a4d47cc9",
   "metadata": {},
   "outputs": [
    {
     "data": {
      "text/plain": [
       "-1"
      ]
     },
     "execution_count": 6,
     "metadata": {},
     "output_type": "execute_result"
    }
   ],
   "source": [
    "limit((x-2)/abs(x-2), x=2, dir='-')"
   ]
  },
  {
   "cell_type": "code",
   "execution_count": 7,
   "id": "77d6ad1c",
   "metadata": {},
   "outputs": [
    {
     "data": {
      "text/plain": [
       "0"
      ]
     },
     "execution_count": 7,
     "metadata": {},
     "output_type": "execute_result"
    }
   ],
   "source": [
    "limit(sqrt(x)*(1+(sin(2*pi/x))^2), x=0)"
   ]
  },
  {
   "cell_type": "code",
   "execution_count": 8,
   "id": "b11af3ec",
   "metadata": {},
   "outputs": [
    {
     "data": {
      "text/plain": [
       "1"
      ]
     },
     "execution_count": 8,
     "metadata": {},
     "output_type": "execute_result"
    }
   ],
   "source": [
    "limit((4*sqrt(x)-4)/(x**2-1), x=1)"
   ]
  },
  {
   "cell_type": "code",
   "execution_count": 9,
   "id": "d9b064dd",
   "metadata": {},
   "outputs": [
    {
     "data": {
      "text/plain": [
       "2"
      ]
     },
     "execution_count": 9,
     "metadata": {},
     "output_type": "execute_result"
    }
   ],
   "source": [
    "limit((6*x + 1)/sqrt(9*x**2+1), x=oo)  # ใช้ oo แทนการลู่เข้าสู่อนันต์"
   ]
  },
  {
   "cell_type": "code",
   "execution_count": 10,
   "id": "ed259b9a",
   "metadata": {},
   "outputs": [
    {
     "data": {
      "text/plain": [
       "+Infinity"
      ]
     },
     "execution_count": 10,
     "metadata": {},
     "output_type": "execute_result"
    }
   ],
   "source": [
    "limit(sqrt(x**2-6*x)-x, x=-oo)"
   ]
  },
  {
   "cell_type": "code",
   "execution_count": 11,
   "id": "3dd14e0c",
   "metadata": {},
   "outputs": [
    {
     "data": {
      "text/plain": [
       "0"
      ]
     },
     "execution_count": 11,
     "metadata": {},
     "output_type": "execute_result"
    }
   ],
   "source": [
    "limit((x**(3/4)+1)/(x+x**(2/3)), x=oo)"
   ]
  },
  {
   "cell_type": "code",
   "execution_count": null,
   "id": "f47f0707",
   "metadata": {},
   "outputs": [],
   "source": []
  },
  {
   "cell_type": "code",
   "execution_count": null,
   "id": "6ab39e4d",
   "metadata": {},
   "outputs": [],
   "source": []
  },
  {
   "cell_type": "code",
   "execution_count": null,
   "id": "78819c38",
   "metadata": {},
   "outputs": [],
   "source": []
  },
  {
   "cell_type": "code",
   "execution_count": null,
   "id": "d8844d2a",
   "metadata": {},
   "outputs": [],
   "source": []
  },
  {
   "cell_type": "markdown",
   "id": "2ae350aa",
   "metadata": {},
   "source": [
    "## อนุพันธ์ของฟังก์ชัน\n",
    "\n",
    "เซจสามารถหาอนุพันธ์ของฟังก์ชันได้หลากหลาย ทั้งแบบที่สร้างจาก mapping หรือการประกาศผ่านตัวแปร"
   ]
  },
  {
   "cell_type": "code",
   "execution_count": 1,
   "id": "97a2f922",
   "metadata": {},
   "outputs": [
    {
     "data": {
      "text/plain": [
       "u |--> cos(u)"
      ]
     },
     "execution_count": 1,
     "metadata": {},
     "output_type": "execute_result"
    }
   ],
   "source": [
    "f1(u) = sin(u)\n",
    "diff(f1, u)"
   ]
  },
  {
   "cell_type": "code",
   "execution_count": 2,
   "id": "787516fd",
   "metadata": {},
   "outputs": [
    {
     "data": {
      "text/plain": [
       "-sin(v)"
      ]
     },
     "execution_count": 2,
     "metadata": {},
     "output_type": "execute_result"
    }
   ],
   "source": [
    "v = var('v')\n",
    "diff(cos(v), v)"
   ]
  },
  {
   "cell_type": "code",
   "execution_count": 12,
   "id": "d0f2d6fb",
   "metadata": {},
   "outputs": [
    {
     "name": "stdout",
     "output_type": "stream",
     "text": [
      "x |--> 0\n"
     ]
    }
   ],
   "source": [
    "x = var('x')\n",
    "y(x) = 1\n",
    "a = y.diff(x)\n",
    "print(a)"
   ]
  },
  {
   "cell_type": "code",
   "execution_count": 13,
   "id": "57101aff",
   "metadata": {},
   "outputs": [
    {
     "data": {
      "text/html": [
       "<html><script type=\"math/tex; mode=display\">\\newcommand{\\Bold}[1]{\\mathbf{#1}}x \\ {\\mapsto}\\ 1200 \\, {\\left(3 \\, x^{4} - 1\\right)}^{99} x^{3}</script></html>"
      ],
      "text/latex": [
       "$$\\newcommand{\\Bold}[1]{\\mathbf{#1}}x \\ {\\mapsto}\\ 1200 \\, {\\left(3 \\, x^{4} - 1\\right)}^{99} x^{3}$$"
      ],
      "text/plain": [
       "x |--> 1200*(3*x^4 - 1)^99*x^3"
      ]
     },
     "metadata": {},
     "output_type": "display_data"
    }
   ],
   "source": [
    "y(x) = (3*x**4-1)**100\n",
    "diffy = y.diff(x)\n",
    "show(diffy)"
   ]
  },
  {
   "cell_type": "code",
   "execution_count": 14,
   "id": "97ca1568",
   "metadata": {},
   "outputs": [
    {
     "data": {
      "text/html": [
       "<html><script type=\"math/tex; mode=display\">\\newcommand{\\Bold}[1]{\\mathbf{#1}}\\left[\\right]</script></html>"
      ],
      "text/latex": [
       "$$\\newcommand{\\Bold}[1]{\\mathbf{#1}}\\left[\\right]$$"
      ],
      "text/plain": [
       "[]"
      ]
     },
     "metadata": {},
     "output_type": "display_data"
    }
   ],
   "source": [
    "var('x, y')\n",
    "eq4 = 3*x*y+y**3 == 12\n",
    "diff4 = diff(eq4, x)\n",
    "result4 = solve(diff4, diff(y,x))\n",
    "show(result4)"
   ]
  },
  {
   "cell_type": "code",
   "execution_count": 15,
   "id": "1b882ed9",
   "metadata": {},
   "outputs": [
    {
     "data": {
      "text/plain": [
       "0"
      ]
     },
     "execution_count": 15,
     "metadata": {},
     "output_type": "execute_result"
    }
   ],
   "source": [
    "limit(sqrt(x)*(1+(sin(2*pi/x))^2), x=0)"
   ]
  },
  {
   "cell_type": "code",
   "execution_count": 16,
   "id": "d7a8061a",
   "metadata": {},
   "outputs": [
    {
     "data": {
      "text/plain": [
       "1"
      ]
     },
     "execution_count": 16,
     "metadata": {},
     "output_type": "execute_result"
    }
   ],
   "source": [
    "limit((4*sqrt(x)-4)/(x**2-1), x=1)"
   ]
  },
  {
   "cell_type": "code",
   "execution_count": 17,
   "id": "bda17632",
   "metadata": {},
   "outputs": [
    {
     "data": {
      "text/plain": [
       "2"
      ]
     },
     "execution_count": 17,
     "metadata": {},
     "output_type": "execute_result"
    }
   ],
   "source": [
    "limit((6*x + 1)/sqrt(9*x**2+1), x=oo)"
   ]
  },
  {
   "cell_type": "code",
   "execution_count": 18,
   "id": "7012aa03",
   "metadata": {},
   "outputs": [
    {
     "data": {
      "text/plain": [
       "+Infinity"
      ]
     },
     "execution_count": 18,
     "metadata": {},
     "output_type": "execute_result"
    }
   ],
   "source": [
    "limit(sqrt(x**2-6*x)-x, x=-oo)"
   ]
  },
  {
   "cell_type": "code",
   "execution_count": 19,
   "id": "a8fc529a",
   "metadata": {},
   "outputs": [
    {
     "data": {
      "text/plain": [
       "0"
      ]
     },
     "execution_count": 19,
     "metadata": {},
     "output_type": "execute_result"
    }
   ],
   "source": [
    "limit((x**(3/4)+1)/(x+x**(2/3)), x=oo)"
   ]
  },
  {
   "cell_type": "code",
   "execution_count": null,
   "id": "e9f86c36",
   "metadata": {},
   "outputs": [],
   "source": []
  },
  {
   "cell_type": "code",
   "execution_count": null,
   "id": "04c87389",
   "metadata": {},
   "outputs": [],
   "source": []
  },
  {
   "cell_type": "code",
   "execution_count": null,
   "id": "350201d5",
   "metadata": {},
   "outputs": [],
   "source": []
  },
  {
   "cell_type": "code",
   "execution_count": null,
   "id": "0abecb1f",
   "metadata": {},
   "outputs": [],
   "source": []
  },
  {
   "cell_type": "markdown",
   "id": "ee1c225b",
   "metadata": {},
   "source": [
    "การหาอนุพันธ์อันดับสูงทำได้โดยการใส่อันดับในอาร์กิวเมนต์ถัดมา"
   ]
  },
  {
   "cell_type": "code",
   "execution_count": 3,
   "id": "41b0cd73",
   "metadata": {},
   "outputs": [
    {
     "data": {
      "text/plain": [
       "32*(tan(x^2)^2 + 1)*x^3*tan(x^2)^2 + 16*(tan(x^2)^2 + 1)^2*x^3 + 24*(tan(x^2)^2 + 1)*x*tan(x^2)"
      ]
     },
     "execution_count": 3,
     "metadata": {},
     "output_type": "execute_result"
    }
   ],
   "source": [
    "diff(tan(x^2), x, 3)"
   ]
  },
  {
   "cell_type": "markdown",
   "id": "185ac8d0",
   "metadata": {},
   "source": [
    "ฟังก์ชัน diff() ใช้คำนวณอนุพันธ์ย่อยด้วยการบ่งบอกตัวแปรที่ต้องการหาอนุพันธ์ย่อย"
   ]
  },
  {
   "cell_type": "code",
   "execution_count": 4,
   "id": "24db99ec",
   "metadata": {},
   "outputs": [
    {
     "data": {
      "text/html": [
       "<html><script type=\"math/tex; mode=display\">\\newcommand{\\Bold}[1]{\\mathbf{#1}}2 \\, x</script></html>"
      ],
      "text/latex": [
       "$$\\newcommand{\\Bold}[1]{\\mathbf{#1}}2 \\, x$$"
      ],
      "text/plain": [
       "2*x"
      ]
     },
     "metadata": {},
     "output_type": "display_data"
    },
    {
     "data": {
      "text/html": [
       "<html><script type=\"math/tex; mode=display\">\\newcommand{\\Bold}[1]{\\mathbf{#1}}24 \\, y</script></html>"
      ],
      "text/latex": [
       "$$\\newcommand{\\Bold}[1]{\\mathbf{#1}}24 \\, y$$"
      ],
      "text/plain": [
       "24*y"
      ]
     },
     "metadata": {},
     "output_type": "display_data"
    }
   ],
   "source": [
    "x, y = var('x, y')\n",
    "f = x^2 + 12*y^2\n",
    "show(f.diff(x))\n",
    "show(f.diff(y))"
   ]
  },
  {
   "cell_type": "markdown",
   "id": "3b0f350c",
   "metadata": {},
   "source": [
    "## ปริพันธ์\n",
    "\n",
    "ฟังก์ชัน integral() สามารถคำนวณหาปริพันธ์ไม่จำกัดเขต และปริพันธ์แบบจำกัดเขต $\\displaystyle\\int x \\cos(x^2) \\, dx$ หรือ $\\displaystyle\\int_0^1 \\frac{x}{x^2+1} \\, dx$"
   ]
  },
  {
   "cell_type": "code",
   "execution_count": 5,
   "id": "e949d82e",
   "metadata": {},
   "outputs": [
    {
     "data": {
      "text/plain": [
       "1/2*sin(x^2)"
      ]
     },
     "execution_count": 5,
     "metadata": {},
     "output_type": "execute_result"
    }
   ],
   "source": [
    "integral(x*cos(x^2), x)"
   ]
  },
  {
   "cell_type": "code",
   "execution_count": 6,
   "id": "586e687d",
   "metadata": {},
   "outputs": [
    {
     "data": {
      "text/plain": [
       "1/2*log(2)"
      ]
     },
     "execution_count": 6,
     "metadata": {},
     "output_type": "execute_result"
    }
   ],
   "source": [
    "integral(x/(x^2+1), x, 0, 1)"
   ]
  },
  {
   "cell_type": "markdown",
   "id": "a7a97497",
   "metadata": {},
   "source": [
    "สำหรับฟังก์ชันตรรกยะ f วิธี .partial_fraction() ใช้สำหรับการแยกตัวประกอบย่อยของฟังก์ชันตรรกยะ"
   ]
  },
  {
   "cell_type": "code",
   "execution_count": 7,
   "id": "1a08f73a",
   "metadata": {},
   "outputs": [
    {
     "data": {
      "text/plain": [
       "-1/2/(x + 1) + 1/2/(x - 1)"
      ]
     },
     "execution_count": 7,
     "metadata": {},
     "output_type": "execute_result"
    }
   ],
   "source": [
    "f = 1/(x^2-1)\n",
    "f.partial_fraction(x)"
   ]
  },
  {
   "cell_type": "markdown",
   "id": "2a765d65",
   "metadata": {},
   "source": [
    "## การหาผลเฉลยของสมการเชิงอนุพันธ์\n",
    "\n",
    "ในกรณีที่ฟังก์ชันจัดว่าเป็นส่วนหนึ่งของค่าที่ไม่ทราบ และสมการอยู่ในรูปแบบของอนุพันธ์ ฟังก์ชัน desolve() ใช้ในการหาผลเฉลยของสมการเชิงอนุพันธ์อันดับหนึ่ง ดีกรีหนึ่งได้"
   ]
  },
  {
   "cell_type": "code",
   "execution_count": 8,
   "id": "7c0ab0d8",
   "metadata": {},
   "outputs": [
    {
     "data": {
      "text/plain": [
       "(_C + e^t)*e^(-t)"
      ]
     },
     "execution_count": 8,
     "metadata": {},
     "output_type": "execute_result"
    }
   ],
   "source": [
    "t = var('t')          # ตัวแปรหลัก\n",
    "x = function('x')(t)  # x เป็นฟังก์ชันของตัวแปรหลัก t\n",
    "DE = diff(x, t) + x - 1\n",
    "desolve(DE, [x, t])"
   ]
  },
  {
   "cell_type": "markdown",
   "id": "212acb88",
   "metadata": {},
   "source": [
    "ผลลัพธ์ที่ได้มาจาก Maxima การแปลงลาปลาซผ่านวิธี .laplace()"
   ]
  },
  {
   "cell_type": "code",
   "execution_count": 10,
   "id": "a7fb176f",
   "metadata": {},
   "outputs": [
    {
     "data": {
      "text/plain": [
       "-1/(s^2 + 1) + 2/(s - 1)^3"
      ]
     },
     "execution_count": 10,
     "metadata": {},
     "output_type": "execute_result"
    }
   ],
   "source": [
    "s = var('s')\n",
    "t = var('t')\n",
    "f = t^2*exp(t) - sin(t)\n",
    "f.laplace(t,s)"
   ]
  },
  {
   "cell_type": "code",
   "execution_count": null,
   "id": "24bfd216",
   "metadata": {},
   "outputs": [],
   "source": []
  },
  {
   "cell_type": "code",
   "execution_count": null,
   "id": "73475802",
   "metadata": {},
   "outputs": [],
   "source": []
  },
  {
   "cell_type": "code",
   "execution_count": null,
   "id": "d1a0bc1d",
   "metadata": {},
   "outputs": [],
   "source": []
  },
  {
   "cell_type": "code",
   "execution_count": null,
   "id": "acee1de5",
   "metadata": {},
   "outputs": [],
   "source": []
  },
  {
   "cell_type": "code",
   "execution_count": null,
   "id": "549c662e",
   "metadata": {},
   "outputs": [],
   "source": []
  },
  {
   "cell_type": "code",
   "execution_count": null,
   "id": "405b0fc9",
   "metadata": {},
   "outputs": [],
   "source": []
  },
  {
   "cell_type": "code",
   "execution_count": null,
   "id": "59c4bafd",
   "metadata": {},
   "outputs": [],
   "source": []
  }
 ],
 "metadata": {
  "kernelspec": {
   "display_name": "SageMath 9.5",
   "language": "sage",
   "name": "sagemath"
  },
  "language_info": {
   "codemirror_mode": {
    "name": "ipython",
    "version": 3
   },
   "file_extension": ".py",
   "mimetype": "text/x-python",
   "name": "python",
   "nbconvert_exporter": "python",
   "pygments_lexer": "ipython3",
   "version": "3.10.12"
  }
 },
 "nbformat": 4,
 "nbformat_minor": 5
}
